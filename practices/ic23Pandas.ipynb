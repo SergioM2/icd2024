{
 "cells": [
  {
   "cell_type": "markdown",
   "id": "8dec626f-dc20-401e-9fcd-2f4ca308179e",
   "metadata": {},
   "source": [
    "# Pandas"
   ]
  },
  {
   "cell_type": "code",
   "execution_count": 3,
   "id": "75dbfe12-0da4-4b29-ad10-238c4dce747d",
   "metadata": {},
   "outputs": [],
   "source": [
    "import pandas as pd"
   ]
  },
  {
   "cell_type": "markdown",
   "id": "b0828361-c97b-47f3-9d5b-4173b82ac915",
   "metadata": {},
   "source": [
    "## Data Frames"
   ]
  },
  {
   "cell_type": "code",
   "execution_count": null,
   "id": "ee80ed60-00af-4c1c-940a-66d3526adb86",
   "metadata": {},
   "outputs": [],
   "source": [
    "# Specify values for each column\n",
    "df = pd.DataFrame(\n",
    "    {\n",
    "        \"a\": [4, 5, 6],\n",
    "        \"b\": [7, 8, 9],\n",
    "        \"c\": [10, 11, 12]\n",
    "    },\n",
    "    index = [1, 2, 3]\n",
    ")\n",
    "\n",
    "# Specify values for each row\n",
    "df = pd.DataFrame(\n",
    "    [\n",
    "        [4, 7, 10],\n",
    "        [5, 8, 11],\n",
    "        [6, 9, 12]\n",
    "    ],\n",
    "    index=[1, 2, 3],\n",
    "    columns=['a', 'b', 'c']\n",
    ")\n",
    "\n",
    "# Create DataFrame with a MultiIndex\n",
    "df = pd.DataFrame(\n",
    "    {\n",
    "        \"a\" : [4 ,5, 6],\n",
    "        \"b\" : [7, 8, 9],\n",
    "        \"c\" : [10, 11, 12]\n",
    "    },\n",
    "    index = pd.MultiIndex.from_tuples(\n",
    "            [\n",
    "                ('d', 1), ('d', 2),\n",
    "                ('e', 2)\n",
    "            ], \n",
    "        names=['n', 'v']\n",
    "    )\n",
    ")"
   ]
  },
  {
   "cell_type": "markdown",
   "id": "ad579d5e-3cca-45c4-9d2b-a87a5607915d",
   "metadata": {},
   "source": [
    "## Method Chaining"
   ]
  },
  {
   "cell_type": "code",
   "execution_count": null,
   "id": "45754a5d-b15f-400d-b41d-d770ce376856",
   "metadata": {},
   "outputs": [],
   "source": [
    "'''\n",
    "Most pandas methods return a DataFrame so that\n",
    "another pandas method can be applied to the result.\n",
    "This improves readability of code.\n",
    "'''\n",
    "\n",
    "df = (pd.melt(df).rename(\n",
    "    columns=\n",
    "             {\n",
    "                'variable':'var',\n",
    "                'value':'val'\n",
    "             }\n",
    "    ).query('val >= 200')\n",
    ")"
   ]
  },
  {
   "cell_type": "markdown",
   "id": "69232c10-ce6e-4e5c-aa27-d5ba9e8e5bd7",
   "metadata": {},
   "source": [
    "## Reshaping Data"
   ]
  },
  {
   "cell_type": "code",
   "execution_count": null,
   "id": "687ea856-608b-44c6-b298-e8dc7a8144e7",
   "metadata": {},
   "outputs": [],
   "source": [
    "# Gather columns into rows\n",
    "pd.melt(df)\n",
    "# Spread rows into columns\n",
    "df.pivot(columns='var', values='val')\n",
    "# Append rows of DataFrames\n",
    "pd.concat([df1,df2])\n",
    "# Append columns of DataFrames\n",
    "pd.concat([df1,df2], axis=1)\n",
    "\n",
    "# Order rows by values of a column (low to high)\n",
    "df.sort_values('mpg')\n",
    "# Order rows by values of a column (high to low)\n",
    "df.sort_values('mpg', ascending=False)\n",
    "# Rename the columns of a DataFrame\n",
    "df.rename(columns = {'y':'year'})\n",
    "# Sort the index of a DataFrame\n",
    "df.sort_index()\n",
    "# Reset index of DataFrame to row numbers, moving index to columns\n",
    "df.reset_index()\n",
    "# Drop columns from DataFrame\n",
    "df.drop(columns=['Length’, 'Height'])"
   ]
  },
  {
   "cell_type": "markdown",
   "id": "ef18386e-52b9-4b57-93b9-cc8c95a1cd69",
   "metadata": {},
   "source": [
    "## Subset Observations - rows"
   ]
  },
  {
   "cell_type": "code",
   "execution_count": null,
   "id": "493be195-2817-4bfa-8378-f8b64d225262",
   "metadata": {},
   "outputs": [],
   "source": [
    "# Extract rows that meet logical criteria \n",
    "df[df.Length > 7]\n",
    "# Remove duplicate rows (only considers columns).\n",
    "df.drop_duplicates()\n",
    "# Randomly select fraction of rows\n",
    "df.sample(frac=0.5)\n",
    "# Randomly select n rows\n",
    "df.sample(n=10)\n",
    "# Select and order top n entries\n",
    "df.nlargest(n, 'value')\n",
    "# Select and order bottom n entries\n",
    "df.nsmallest(n, 'value')\n",
    "# Select first n rows\n",
    "df.head(n)\n",
    "# Select last n rows\n",
    "df.tail(n)"
   ]
  },
  {
   "cell_type": "markdown",
   "id": "17a060ee-527d-46c5-9306-fcaeac4dff30",
   "metadata": {},
   "source": [
    "## Subset Variables - columns"
   ]
  },
  {
   "cell_type": "code",
   "execution_count": null,
   "id": "c3ef68f3-8989-4311-9ab2-e4b6b03c346d",
   "metadata": {},
   "outputs": [],
   "source": [
    "# Select multiple columns with specific names\n",
    "df[['width', 'length', 'species']]\n",
    "# Select single column with specific name\n",
    "df['width'] or df.width\n",
    "# Select columns whose name matches regular expression regex\n",
    "df.filter(regex='regex')"
   ]
  },
  {
   "cell_type": "markdown",
   "id": "69c74c98-4574-4bf7-8bf2-ccf3ddf0b4f6",
   "metadata": {},
   "source": [
    "## Using query"
   ]
  },
  {
   "cell_type": "code",
   "execution_count": null,
   "id": "a92c38b9-2449-465b-8c04-c1073a96d64e",
   "metadata": {},
   "outputs": [],
   "source": [
    "# query() allows Boolean expressions for filtering rows\n",
    "df.query('Length > 7')\n",
    "df.query('Length > 7 and Width < 8')\n",
    "df.query('Name.str.startswith(\"abc\")',engine=\"python\")"
   ]
  },
  {
   "cell_type": "markdown",
   "id": "5eca58fe-806a-4b8c-8c68-2cb60584e219",
   "metadata": {},
   "source": [
    "## Subsets - rows and columns"
   ]
  },
  {
   "cell_type": "code",
   "execution_count": null,
   "id": "3362ed26-3a33-40a7-82ea-a7c1c89aa8e2",
   "metadata": {},
   "outputs": [],
   "source": [
    "# Select rows 10-20\n",
    "df.iloc[10:20]\n",
    "# Select columns in positions 1, 2 and 5 (first column is 0)\n",
    "df.iloc[:, [1, 2, 5]]\n",
    "# Select all columns between x2 and x4 (inclusive)\n",
    "df.loc[:, 'x2':'x4']\n",
    "# Select rows meeting logical condition, and only the specific columns\n",
    "df.loc[df['a'] > 10, ['a', 'c']]\n",
    "# Access single value by index\n",
    "df.iat[1, 2]\n",
    "# Access single value by label\n",
    "df.at[4, 'A']"
   ]
  },
  {
   "cell_type": "markdown",
   "id": "08dfd74c-d29d-4571-9408-c1dcad998693",
   "metadata": {},
   "source": [
    "## Summarize Data"
   ]
  },
  {
   "cell_type": "code",
   "execution_count": null,
   "id": "b8e20fa5-01ab-4305-aa12-a005ff194054",
   "metadata": {},
   "outputs": [],
   "source": [
    "# Count number of rows with each unique value of variable\n",
    "df['w'].value_counts()\n",
    "# number of rows in DataFrame\n",
    "len(df)\n",
    "# Tuple of # of rows, # of columns in DataFrame.\n",
    "df.shape\n",
    "# # of distinct values in a column\n",
    "df['w'].nunique()\n",
    "#Basic descriptive and statistics for each column (or GroupBy)\n",
    "df.describe()\n",
    "\n",
    "# Summary functions\n",
    "# Sum values of each object.\n",
    "sum()\n",
    "# Count non-NA/null values of each object\n",
    "count()\n",
    "# Median value of each object\n",
    "median()\n",
    "# Quantiles of each object\n",
    "quantile([0.25,0.75])\n",
    "# Apply function to each object\n",
    "apply(function)\n",
    "# Minimum value in each object\n",
    "min()\n",
    "# Maximum value in each object\n",
    "max()\n",
    "# Mean value of each object\n",
    "mean()\n",
    "# Variance of each object\n",
    "var()\n",
    "# Standard deviation of each object\n",
    "std()"
   ]
  },
  {
   "cell_type": "markdown",
   "id": "cf4e6e73-33fe-4799-8d6b-e8e3b5e9a3c1",
   "metadata": {},
   "source": [
    "## Group Data"
   ]
  },
  {
   "cell_type": "code",
   "execution_count": null,
   "id": "4698e42d-18d3-4303-a614-a92022825f75",
   "metadata": {},
   "outputs": [],
   "source": [
    "# Return a GroupBy object, grouped by values in column named \"col\".\n",
    "df.groupby(by=\"col\")\n",
    "# Return a GroupBy object, grouped by values in index level named \"ind\".\n",
    "df.groupby(level=\"ind\")"
   ]
  },
  {
   "cell_type": "markdown",
   "id": "4b69e572-343d-4a5a-bede-1d81e7a276ea",
   "metadata": {},
   "source": [
    "## Windows"
   ]
  },
  {
   "cell_type": "code",
   "execution_count": null,
   "id": "0e35f478-dc15-47a2-8256-ceb3d8e16c00",
   "metadata": {},
   "outputs": [],
   "source": [
    "# Return an Expanding object allowing summary functions to be applied cumulatively\n",
    "df.expanding()\n",
    "# Return a Rolling object allowing summary functions to be applied to windows of length n\n",
    "df.rolling(n)"
   ]
  },
  {
   "cell_type": "markdown",
   "id": "28ceba43-2db3-484c-b710-4f65d7c0f899",
   "metadata": {},
   "source": [
    "## Handling Missing Data"
   ]
  },
  {
   "cell_type": "code",
   "execution_count": null,
   "id": "f64e4815-47b3-4401-9f43-1bbe85267045",
   "metadata": {},
   "outputs": [],
   "source": [
    "# Drop rows with any column having NA/null data\n",
    "df.dropna()\n",
    "# Replace all NA/null data with value\n",
    "df.fillna(value)"
   ]
  },
  {
   "cell_type": "markdown",
   "id": "2d1bd28c-1762-4c96-8668-8600b38879c5",
   "metadata": {},
   "source": [
    "## Make new columns"
   ]
  },
  {
   "cell_type": "code",
   "execution_count": null,
   "id": "27692dd1-9f21-4f17-a412-c1d3add724e0",
   "metadata": {},
   "outputs": [],
   "source": [
    "# Compute and append one or more new columns\n",
    "df.assign(Area=lambda df: df.Length*df.Height)\n",
    "# Add single column\n",
    "df['Volume'] = df.Length*df.Height*df.Depth\n",
    "# Bin column into n buckets\n",
    "pd.qcut(df.col, n, labels=False)"
   ]
  },
  {
   "cell_type": "markdown",
   "id": "22ecfe9f-18b8-4a62-804c-c33773a6f770",
   "metadata": {},
   "source": [
    "## Plotting"
   ]
  },
  {
   "cell_type": "code",
   "execution_count": null,
   "id": "0cd9c330-4da2-4ebb-820b-f6df6cc60aff",
   "metadata": {},
   "outputs": [],
   "source": [
    "# Histogram for each column\n",
    "df.plot.hist()\n",
    "# Scatter chart using pairs of points\n",
    "df.plot.scatter(x='w',y='h')"
   ]
  },
  {
   "cell_type": "markdown",
   "id": "de520a72-5ad9-43dd-8555-d0f6dfc35488",
   "metadata": {},
   "source": [
    "## Combine Data Sets"
   ]
  },
  {
   "cell_type": "code",
   "execution_count": null,
   "id": "edc79035-1d01-4ec6-89f6-df64c717658a",
   "metadata": {},
   "outputs": [],
   "source": [
    "# Join matching rows from bdf to adf\n",
    "pd.merge(adf, bdf,how='left', on='x1')\n",
    "# Join matching rows from adf to bdf\n",
    "pd.merge(adf, bdf, how='right', on='x1')\n",
    "# Join data. Retain only rows in both sets\n",
    "pd.merge(adf, bdf,how='inner', on='x1')\n",
    "# Join data. Retain all values, all rows\n",
    "pd.merge(adf, bdf,how='outer', on='x1')\n",
    "# All rows in adf that have a match in bdf\n",
    "adf[adf.x1.isin(bdf.x1)]\n",
    "# All rows in adf that do not have a match in bdf\n",
    "adf[~adf.x1.isin(bdf.x1)]\n",
    "# Rows that appear in both ydf and zdf (Intersection)\n",
    "pd.merge(ydf, zdf)\n",
    "# Rows that appear in either or both ydf and zdf (Union)\n",
    "pd.merge(ydf, zdf, how='outer')\n",
    "# Rows that appear in ydf but not zdf (Setdiff)\n",
    "pd.merge(ydf, zdf, how='outer', indicator=True).query('_merge == \"left_only\"')\n",
    ".drop(columns=['_merge'])"
   ]
  }
 ],
 "metadata": {
  "kernelspec": {
   "display_name": "Python 3 (ipykernel)",
   "language": "python",
   "name": "python3"
  },
  "language_info": {
   "codemirror_mode": {
    "name": "ipython",
    "version": 3
   },
   "file_extension": ".py",
   "mimetype": "text/x-python",
   "name": "python",
   "nbconvert_exporter": "python",
   "pygments_lexer": "ipython3",
   "version": "3.11.9"
  }
 },
 "nbformat": 4,
 "nbformat_minor": 5
}
