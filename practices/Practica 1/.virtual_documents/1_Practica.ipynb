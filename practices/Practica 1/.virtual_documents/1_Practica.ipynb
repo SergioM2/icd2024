





import pandas as pd
import seaborn as sns
import matplotlib.pyplot as plt
import numpy as np





df = pd.read_csv("ClassicHit.csv")
sns.set_theme(style="darkgrid")





print(df)


# Se observan los tipos de datos por columna
df.info()





# Se cuentan las canciones por año y se reordenan los indices
year_count = df['Year'].value_counts().sort_index()

plt.figure(figsize=(8,7))
plt.bar(year_count.index, year_count.values)
plt.title('Cantidad de canciones por año')
plt.xlabel('Año')
plt.ylabel('Cantidad de canciones')
plt.show()








# Se cuentan el total de canciones por género
genre_count = df['Genre'].value_counts().sort_index()

plt.figure(figsize=(10,5))
plt.bar(genre_count.index, genre_count.values)
plt.title('Cantidad de canciones por género')
plt.xlabel('Género')
plt.ylabel('Cantidad de canciones')
plt.xticks(rotation=45, ha='right')
plt.show()





# Se agrega una columna para guardar el dato de la duración de las canciones en segundos
df['Duration_sec'] = df['Duration'] / 1000

plt.figure(figsize=(10,6))
plt.hist(df['Duration_sec'], bins=200)
plt.title('Duración de las canciones')
plt.xlabel('Duración en segundos')
plt.ylabel('Cantidad de canciones')
plt.xlim(0,1000)
plt.show()





# Se agrupan los datos por género y se calcula la media por su duración en segundos
duration_by_gen = df.groupby('Genre')['Duration_sec'].mean()

plt.figure(figsize=(10,6))
plt.bar(duration_by_gen.index, duration_by_gen.sort_values())
plt.title('Duración media por género')
plt.xlabel('Género')
plt.ylabel('Duración en segundos')
plt.xticks(rotation=45, ha='right')
plt.show()





# Se agrupan los datos por género y se calcula la media por su popularidad
genre_popular_df = df.groupby('Genre')['Popularity'].mean()

plt.figure(figsize=(10,6))
plt.bar(genre_popular_df.index, genre_popular_df.sort_values())
plt.xlabel('Género')
plt.ylabel('Popularidad media')
plt.title('Popularidad media por género')
plt.xticks(rotation=45, ha='right')
plt.show()





# Se filtra y crea un nuevo DataFrame por el género World y se guarda en la variable world_df
world_df = df[df['Genre'] == 'World']

# Se agrupa por artista y se calcula la media por popularidad
avg = world_df.groupby('Artist')['Popularity'].mean()

# Se optiene el top 20
top_20_worldgenre__artist = avg.nlargest(20)

plt.figure(figsize=(12,6))
plt.barh(top_20_worldgenre__artist.index, top_20_worldgenre__artist.sort_values())
plt.xlabel('Popularidad media')
plt.ylabel('Artista')
plt.title('Top 20 artistas por popularidad media en el género World')
plt.show()





# Se agrupa el DataFrame por cancion y se calcula la media por popularidad
tracks_avg = world_df.groupby('Track')['Popularity'].mean()

# Se obtienen las primeras 20 canciones
top_20_worldgenre_tracks = tracks_avg.nlargest(20)

plt.figure(figsize=(12,6))
plt.barh(top_20_worldgenre_tracks.index, top_20_worldgenre_tracks.sort_values())
plt.xlabel('Canción')
plt.ylabel('Artista')
plt.title('Top 20 canciones por popularidad media en el género World')
plt.show()





# Se filtra y crea un nuevo DataFrame por el género World
pop_df = df[df['Genre'] == 'World']

# Se agrupa por año y se calcula la media
avg = pop_df.groupby('Year')['Danceability'].mean()

plt.figure(figsize=(10,5))
plt.plot(avg.index, avg.values, marker='o')
plt.xlabel('Año')
plt.ylabel('Bailable')
plt.title('¿Qué tan bailables han sido las canciones de género World durante el tiempo?')
plt.show()





# Se agrupa el DataFrame por año y genero, y se suma su popularidad para cada combinación de año y género
genre_by_year = df.groupby(['Year', 'Genre'])['Popularity'].sum().reset_index()

# Se agrua el DataFrame por Año, se selecciona la columna de popularidad para cada grupo y se obtienen los indices de las filas con el valor maximo de popularidad para cada año
top_genres_by_year = genre_by_year.loc[genre_by_year.groupby('Year')['Popularity'].idxmax()]

plt.figure(figsize=(34, 10))
ax = sns.barplot(x='Year', y='Popularity',data=top_genres_by_year, hue='Genre',palette='viridis')

# Se ajusta el ancho de las barras del gráfico
for patch in ax.patches:
    patch.set_width(0.5)
    
plt.title('Géneros más escuchados por año')
plt.xlabel('Año')
plt.ylabel('Popularidad total')
plt.xticks(rotation=45, ha='right')
plt.legend(title='Género')

plt.show()





sns.pairplot(top_genres_by_year, hue='Genre')
plt.show()
