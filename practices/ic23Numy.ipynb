{
 "cells": [
  {
   "cell_type": "markdown",
   "id": "9a83747d-a18a-4d07-9446-22ecf17b02cd",
   "metadata": {},
   "source": [
    "# NUMPY"
   ]
  },
  {
   "cell_type": "code",
   "execution_count": 5,
   "id": "72b099e0-0172-45ae-a42c-13f4cbb797a3",
   "metadata": {},
   "outputs": [],
   "source": [
    "import numpy as np"
   ]
  },
  {
   "cell_type": "markdown",
   "id": "508308ca-a939-4c8f-af62-a6a1186022b1",
   "metadata": {},
   "source": [
    "## Arreglos en numpy"
   ]
  },
  {
   "cell_type": "code",
   "execution_count": 11,
   "id": "d45010be-3c79-41c0-a49b-f2fa1b6c7f21",
   "metadata": {},
   "outputs": [],
   "source": [
    "# Arreglo de 1D\n",
    "a = np.array([1,2,3])\n",
    "\n",
    "# Arreglo de 2D de tipo flotante\n",
    "b = np.array([(1.5,2,3), (4,5,6)], dtype = float)\n",
    "\n",
    "# Arreglo de 3D de tipo flotante\n",
    "c = np.array([[(1.5,2,3), (4,5,6)],[(3,2,1), (4,5,6)]],dtype = float)"
   ]
  },
  {
   "cell_type": "markdown",
   "id": "cffd6656-418b-4dce-adae-5a518b2c90ea",
   "metadata": {},
   "source": [
    "### Marcadores iniciales"
   ]
  },
  {
   "cell_type": "code",
   "execution_count": 13,
   "id": "750454d2-134b-4485-8f4f-f5517f12308e",
   "metadata": {},
   "outputs": [
    {
     "data": {
      "text/plain": [
       "array([[1.39069238e-309, 1.39069238e-309],\n",
       "       [1.39069238e-309, 1.39069238e-309],\n",
       "       [1.39069238e-309, 1.39069238e-309]])"
      ]
     },
     "execution_count": 13,
     "metadata": {},
     "output_type": "execute_result"
    }
   ],
   "source": [
    "# Crea un arreglo de ceros\n",
    "np.zeros((3,4))\n",
    "# Crea un arreglo de unos\n",
    "np.ones((2,3,4), dtype = np.int16)\n",
    "# Crea un arreglo de valores espacialmente valanceados (valor del paso) ?\n",
    "np.arange(10,25,5)\n",
    "# Crea un arreglo  de valores espacialmente valanceados (número de samples)\n",
    "np.linspace(0,2,9)\n",
    "# Crea un arreglo constante\n",
    "e = np.full((2,2),7)\n",
    "# Crea una matriz identidad de 2x2\n",
    "f = np.eye(2)\n",
    "# Crea un arreglo con valores aleatoreos\n",
    "np.random.random((2,2))\n",
    "# Crea un arreglo vacio\n",
    "np.empty((3,2))"
   ]
  },
  {
   "cell_type": "markdown",
   "id": "1bd3b371-3379-44da-bcbd-182ef21edac6",
   "metadata": {},
   "source": [
    "## Input / Output"
   ]
  },
  {
   "cell_type": "markdown",
   "id": "19ad2281-589f-4a33-a149-3297f08a2e28",
   "metadata": {},
   "source": [
    "### Guardando y Cargando en Disco"
   ]
  },
  {
   "cell_type": "code",
   "execution_count": null,
   "id": "1b159db3-68c7-4d4f-a3c3-085490d92895",
   "metadata": {},
   "outputs": [],
   "source": [
    "np.save('my_array',a)\n",
    "np.savez('array.npz',a,b)\n",
    "np.load('my_array.npy')"
   ]
  },
  {
   "cell_type": "markdown",
   "id": "6f4195c3-fa2c-4a8d-a3f0-a04120bec45e",
   "metadata": {},
   "source": [
    "### Guardando y Cargando archivos de texto"
   ]
  },
  {
   "cell_type": "code",
   "execution_count": null,
   "id": "5835853a-dc35-47a1-8654-20d4b9523ab9",
   "metadata": {},
   "outputs": [],
   "source": [
    "np.loadtxt('myfile.txt')\n",
    "np.genfromtxt('my_file.csv', delimiter=',')\n",
    "np.savetxt('myarray.txt', a, delimiter=\" \")"
   ]
  },
  {
   "cell_type": "markdown",
   "id": "0b2b02c7-9315-4b5d-93d6-cc71ac117028",
   "metadata": {},
   "source": [
    "## Pedir información de ayuda"
   ]
  },
  {
   "cell_type": "code",
   "execution_count": 19,
   "id": "5bac91dd-2f75-4ce3-a5e1-90c8dae7a513",
   "metadata": {},
   "outputs": [
    {
     "name": "stdout",
     "output_type": "stream",
     "text": [
      "Data-type of the array's elements.\n",
      "\n",
      ".. warning::\n",
      "\n",
      "    Setting ``arr.dtype`` is discouraged and may be deprecated in the\n",
      "    future.  Setting will replace the ``dtype`` without modifying the\n",
      "    memory (see also `ndarray.view` and `ndarray.astype`).\n",
      "\n",
      "Parameters\n",
      "----------\n",
      "None\n",
      "\n",
      "Returns\n",
      "-------\n",
      "d : numpy dtype object\n",
      "\n",
      "See Also\n",
      "--------\n",
      "ndarray.astype : Cast the values contained in the array to a new data-type.\n",
      "ndarray.view : Create a view of the same data but a different data-type.\n",
      "numpy.dtype\n",
      "\n",
      "Examples\n",
      "--------\n",
      ">>> x\n",
      "array([[0, 1],\n",
      "       [2, 3]])\n",
      ">>> x.dtype\n",
      "dtype('int32')\n",
      ">>> type(x.dtype)\n",
      "<type 'numpy.dtype'>\n"
     ]
    }
   ],
   "source": [
    "np.info(np.ndarray.dtype)"
   ]
  },
  {
   "cell_type": "markdown",
   "id": "adc678f6-e772-4d1b-8bbe-8b00bfbcfba7",
   "metadata": {},
   "source": [
    "## Inspeccionar el arreglo"
   ]
  },
  {
   "cell_type": "code",
   "execution_count": null,
   "id": "4d51a0e0-7400-445a-8566-a759b8eddeb3",
   "metadata": {},
   "outputs": [],
   "source": [
    "# Dimenciones del arreglo\n",
    "a.shape\n",
    "# Tamaño del arreglo\n",
    "len(a)\n",
    "# Número de dimenciones del arreglo\n",
    "b.ndim\n",
    "# Número de elementos del arreglo\n",
    "e.size\n",
    "# Tipo de datos de los elementos del arreglo\n",
    "b.dtype\n",
    "# Nombre del tipo de dato\n",
    "b.dtype.name\n",
    "# Convercion de un arreglo de un tipo a otro diferente\n",
    "b.astype(int)"
   ]
  },
  {
   "cell_type": "markdown",
   "id": "c03056ee-583e-4fdd-b56e-e9ceae4eac94",
   "metadata": {},
   "source": [
    "## Tipos de datos"
   ]
  },
  {
   "cell_type": "code",
   "execution_count": null,
   "id": "e80aa27f-f245-46b3-81cd-1da83a5d3515",
   "metadata": {},
   "outputs": [],
   "source": [
    "# Entero de 64-bit \n",
    "np.int64\n",
    "# Precision estandar de punto flotante\n",
    "np.float32\n",
    "# Números complejos reprecentados por 128 floats\n",
    "np.complex128\n",
    "# Tipo boleano\n",
    "np.bool_\n",
    "# Tipo objeto de python\n",
    "np.object_\n",
    "# Tipo string\n",
    "np.string_\n",
    "# Tipo unicode\n",
    "np.unicode_"
   ]
  },
  {
   "cell_type": "markdown",
   "id": "252a6588-b32e-4653-8ffe-b31489a77e3e",
   "metadata": {},
   "source": [
    "## Matemáticas en arreglos"
   ]
  },
  {
   "cell_type": "markdown",
   "id": "a7d45694-357e-48a6-862a-36878683abc3",
   "metadata": {},
   "source": [
    "### Operaciones aritmeticas"
   ]
  },
  {
   "cell_type": "code",
   "execution_count": null,
   "id": "8e187936-53e8-4680-84fe-f2ba51c4e01d",
   "metadata": {},
   "outputs": [],
   "source": [
    "# Resta\n",
    "g = a - b\n",
    "# Resta np\n",
    "np.subtract(a,b)\n",
    "# Suama\n",
    "b + a\n",
    "# Suma np\n",
    "np.add(b,a)\n",
    "# Divicion\n",
    "a / b\n",
    "# Divicion np\n",
    "np.divide(a,b)\n",
    "# Multiplicación\n",
    "a * b\n",
    "# Multiplicación np\n",
    "np.multiply(a,b)\n",
    "# Exponetizacion\n",
    "np.exp(b)\n",
    "# Raiz cuadrada\n",
    "np.sqrt(b)\n",
    "# Imprimir las funciones seno de un arreglo\n",
    "np.sin(a)\n",
    "# Coseno elemento a elemento\n",
    "np.cos(a)\n",
    "# Algoritmo natural de elemento a elemento\n",
    "np.log(a)\n",
    "# Producto punto\n",
    "e.dot(f)"
   ]
  },
  {
   "cell_type": "markdown",
   "id": "f69c7768-caa3-4b4f-9bf7-bb2ce7b2b7e7",
   "metadata": {},
   "source": [
    "### Comparaciones"
   ]
  },
  {
   "cell_type": "code",
   "execution_count": null,
   "id": "61eb5fcb-adbc-4659-91af-a2e5507f32b1",
   "metadata": {},
   "outputs": [],
   "source": [
    "# Comparacion elemento a elemento\n",
    "a === b\n",
    "# Comparacion elemento a elemento\n",
    "a < 2\n",
    "# Comparacion elemento a elemento\n",
    "np.array_equal(a,b)"
   ]
  },
  {
   "cell_type": "markdown",
   "id": "6c5c709b-3d44-42f4-936f-e6fec1af5149",
   "metadata": {},
   "source": [
    "### Funciones de agregado"
   ]
  },
  {
   "cell_type": "code",
   "execution_count": null,
   "id": "cea37b44-925d-4307-bc33-fc0331346da4",
   "metadata": {},
   "outputs": [],
   "source": [
    "# Suma los elementos del arreglo\n",
    "a.sum()\n",
    "# Valor minimo del arreglo\n",
    "a.min()\n",
    "# Valor maximo de la fila del arreglo\n",
    "b.max(axis=0)\n",
    "# Suma comulativa de los elememntos \n",
    "b.cumsum(axis=1)\n",
    "# Significado\n",
    "a.mean()\n",
    "# Mediana\n",
    "np.median(b)\n",
    "# Coeficiente de correlacion\n",
    "np.corrcoef(a)\n",
    "# Derivacion estandar\n",
    "np.std(b)"
   ]
  },
  {
   "cell_type": "markdown",
   "id": "b526e9a9-0743-4e53-9655-ff8604b768a6",
   "metadata": {},
   "source": [
    "## Copiado de arreglos"
   ]
  },
  {
   "cell_type": "code",
   "execution_count": null,
   "id": "d5261e81-5ee7-4922-ac60-d7a0d4146cc5",
   "metadata": {},
   "outputs": [],
   "source": [
    "# Creando una view del arreglo con los mismos datos\n",
    "h = a.view()\n",
    "# Crea una copia del arreglo\n",
    "np.copy(a)\n",
    "# Crea una copia profunda del arreglo\n",
    "h = a.copy()"
   ]
  },
  {
   "cell_type": "markdown",
   "id": "5737ffa8-b634-4cc7-9930-0b27e8af3384",
   "metadata": {},
   "source": [
    "## Ordenando arreglos"
   ]
  },
  {
   "cell_type": "code",
   "execution_count": null,
   "id": "4122d5e3-812c-49b4-9263-9c76908a8ba2",
   "metadata": {},
   "outputs": [],
   "source": [
    "# Ordena un arreglo\n",
    "a.sort()\n",
    "# Ordena los elementos de los axis del arreglo\n",
    "c.sort(axis=0)"
   ]
  },
  {
   "cell_type": "markdown",
   "id": "61d57bd7-00d4-465f-864f-60ee174e221b",
   "metadata": {},
   "source": [
    "## Indexado, Particiones, Subconjuntos"
   ]
  },
  {
   "cell_type": "code",
   "execution_count": null,
   "id": "66ac530c-3e2f-46a2-b04a-014765d6a668",
   "metadata": {},
   "outputs": [],
   "source": [
    "# Selecciona el elemento del segundo indice\n",
    "a[2]\n",
    "# Selecciona el elemento en la fila 1 columna 2 (equivalente a b[1][2])\n",
    "b[1,2]\n",
    "\n",
    "#Selecciona los elementos del indice 0 y 1\n",
    "a[0:2]\n",
    "# Selecciona los elementos en la fila 0 y 1 en la columna 1\n",
    "b[0:2,1]\n",
    "# Selecciona todos los elementos de la fila 0\n",
    "b[:1]\n",
    "# Equivalente a [1,:,:]\n",
    "c[1,...]\n",
    "# Invertir un arreglo\n",
    "a[ : :-1]\n",
    "\n",
    "# Seleccionar elementos menores que 2\n",
    "a[a<2]\n",
    "\n",
    "# Selecciona elementos (1,0), (0,1),(1,2), y (0,0)\n",
    "b[[1, 0, 1, 0],[0, 1, 2, 0]]\n",
    "# Selecciona un subarreglo de la matiz\n",
    "b[[1, 0, 1, 0]][:, [0,1,2,0]]"
   ]
  },
  {
   "cell_type": "markdown",
   "id": "160de31d-9ff1-4ca4-8cef-be822110743a",
   "metadata": {},
   "source": [
    "## Manipulacion de arreglos"
   ]
  },
  {
   "cell_type": "code",
   "execution_count": null,
   "id": "c1272cb3-c09d-4021-b768-886e2f8210ac",
   "metadata": {},
   "outputs": [],
   "source": [
    "# Permuta las dimenciones del arreglo\n",
    "i = np.transpose(b)\n",
    "i.T\n",
    "\n",
    "# Desestructurar el arreglo\n",
    "b.ravel()\n",
    "# Reforma el arreglo pero no cambia los datos\n",
    "g.reshape(3, 2)\n",
    "\n",
    "# Regresa un nuevo arreglo de la forma (2,6)\n",
    "h.resize((2,6))\n",
    "# Concatena elementos a un arreglo\n",
    "np.append(h,g)\n",
    "# Inserta elementos en el arreglo\n",
    "np.insert(a,1,5)\n",
    "# Elimina elementos del arreglo\n",
    "np.delete(a,[1])\n",
    "\n",
    "# Concatena arreglos\n",
    "np.concatenate((a,d),axis=0)\n",
    "# Apila arreglos verticalmente\n",
    "np.vstack((a,b))\n",
    "# Apila arreglos verticalmente\n",
    "np.r_[e,f]\n",
    "# Apila arreglos horizontalmente\n",
    "np.hstack((e,f))\n",
    "# Crea una pila columna a columna de arreglos\n",
    "np.column_stack((a,d))\n",
    "# Crea una pila columna a columna de arreglos\n",
    "np.c_[a,d]\n",
    "\n",
    "# Separa el arreglo horizontalmente apartir del 3er indice\n",
    "np.hsplit(a,3)\n",
    "# Separa el arreglo verticalmente apartir del 2ndo indice\n",
    "np.vsolit(c,2)"
   ]
  }
 ],
 "metadata": {
  "kernelspec": {
   "display_name": "Python 3 (ipykernel)",
   "language": "python",
   "name": "python3"
  },
  "language_info": {
   "codemirror_mode": {
    "name": "ipython",
    "version": 3
   },
   "file_extension": ".py",
   "mimetype": "text/x-python",
   "name": "python",
   "nbconvert_exporter": "python",
   "pygments_lexer": "ipython3",
   "version": "3.11.9"
  }
 },
 "nbformat": 4,
 "nbformat_minor": 5
}
