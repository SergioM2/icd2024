


import pandas as pd
import seaborn as sns
import matplotlib.pyplot as plt
import numpy as np





df = pd.read_csv("ClassicHit.csv")
print(df.head())





from sklearn.discriminant_analysis import LinearDiscriminantAnalysis as LDA
df = df.drop ('Track', axis = 1)
df = df.drop('Artist', axis = 1)

X = df.loc[:,df.columns != 'Genre'].values
y = y = df['Genre'].values

print(len(X))
print(X)


X_LDA = LDA(n_components=3).fit_transform(X,y)

fig = plt.figure()
ax = plt.axes(projection ="3d")

ax.scatter3D(X_LDA[:,0], X_LDA[:,1], X_LDA[:,2], c=y)
plt.title("LDA plot in 3D")

plt.show()






