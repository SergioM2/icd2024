


# Librerias generales a utilizar
import pandas as pd
import seaborn as sns
import matplotlib.pyplot as plt
import numpy as np





df = pd.read_csv("fish_data.csv")
print(df.head())








plt.boxplot(df['weight'], vert=False)
plt.ylabel('Variable')
plt.xlabel('weight')
plt.title('Before')
plt.show()





# calculate summary statistics
mean = df['weight'].mean()
std  = df['weight'].std()

# Calculate the lower and upper bounds
upper_bound = mean + std*2
 
print('Upper Bound :',upper_bound)
 
# Drop the outliers
df1 = df[df['weight'] <= upper_bound]


plt.boxplot(df1['weight'], vert=False)
plt.ylabel('Variable')
plt.xlabel('weight')
plt.title('After')
plt.show()








from sklearn.discriminant_analysis import LinearDiscriminantAnalysis as LDA
from sklearn.preprocessing import LabelEncoder

# Separar características y variable objetivo
X = df1[['length', 'weight', 'w_l_ratio']]
y = df1['species']

# Codificar la variable objetivo (especies) a valores numéricos
label_encoder = LabelEncoder()
y_encoded = label_encoder.fit_transform(y)


# LDA reducido a 3 dimenciones
X_LDA = LDA(n_components=3).fit_transform(X,y_encoded)

fig = plt.figure()
ax = plt.axes(projection ="3d")

ax.scatter3D(X_LDA[:,0], X_LDA[:,1], X_LDA[:,2], c=y_encoded)
plt.title("LDA plot in 3D")

plt.show()





# Crear un DataFrame con los resultados de LDA
lda_df = pd.DataFrame(X_LDA)
lda_df['species'] = y

# Mostrar las primeras filas del resultado
lda_df.head()





from sklearn.ensemble import RandomForestClassifier

### Applying feature selection method
rf = RandomForestClassifier(n_estimators=100, random_state=42)
rf.fit(X, y_encoded)

# show feature selection
importances = rf.feature_importances_
forest_importances = pd.Series(importances, index=X.columns)

plt.figure(figsize=(10, 6))
forest_importances.plot(kind='bar')
plt.title('Feature selection (Random Forest)')
plt.show()



