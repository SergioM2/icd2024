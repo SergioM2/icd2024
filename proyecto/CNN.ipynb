{
 "cells": [
  {
   "cell_type": "markdown",
   "metadata": {},
   "source": [
    "# CNN"
   ]
  },
  {
   "cell_type": "code",
   "execution_count": 1,
   "metadata": {},
   "outputs": [],
   "source": [
    "import os\n",
    "import shutil\n",
    "import numpy as np\n",
    "import matplotlib.pyplot as plt\n",
    "import seaborn as sns\n",
    "import random\n",
    "import pandas as pd\n",
    "from sklearn.metrics import accuracy_score, confusion_matrix, classification_report, matthews_corrcoef, f1_score\n",
    "from tqdm import tqdm\n",
    "\n",
    "import tensorflow as tf\n",
    "from tensorflow.keras.utils import to_categorical\n",
    "from tensorflow.keras.preprocessing.image import ImageDataGenerator\n",
    "from tensorflow.keras import models, layers, optimizers\n",
    "from tensorflow.keras.callbacks import EarlyStopping, ReduceLROnPlateau"
   ]
  },
  {
   "cell_type": "markdown",
   "metadata": {},
   "source": [
    "### Paths"
   ]
  },
  {
   "cell_type": "code",
   "execution_count": null,
   "metadata": {},
   "outputs": [],
   "source": [
    "gen_path = 'dataset/birdclef-2024/images/'\n",
    "\n",
    "# Images paths\n",
    "stft_mel_full_train_images_path = os.path.join(gen_path, 'stft_mel_full_train_images/')\n",
    "stft_mfcc_full_train_images_path = os.path.join(gen_path, 'stft_mfcc_full_train_images/')\n",
    "\n",
    "images_path = os.path.join(gen_path, 'train_images/')\n",
    "normalized_images_path = os.path.join(gen_path, 'normalized_train_images/')\n",
    "filtered_images_path = os.path.join(gen_path, 'filtered_train_images/')\n",
    "\n",
    "stft_mel_1mn_path = os.path.join(gen_path, 'stft_mel_1mn/')\n",
    "stft_mfcc_1mn_path = os.path.join(gen_path, 'stft_mfcc_1mn/')\n",
    "\n",
    "stft_mel_3mn_path = os.path.join(gen_path, 'stft_mel_3mn/')\n",
    "stft_mfcc_3mn_path = os.path.join(gen_path, 'stft_mel_3mn/')\n",
    "\n",
    "stft_mel_5mn_path = os.path.join(gen_path, 'stft_mel_5mn/')\n",
    "stft_mfcc_5mn_path = os.path.join(gen_path, 'stft_mfcc_5mn/')\n",
    "\n",
    "stft_mel_50_path = os.path.join(gen_path, 'stft_mel_50/')\n",
    "stft_mfcc_50_path = os.path.join(gen_path, 'stft_mfcc_50/')\n",
    "\n",
    "stft_mel_100_path = os.path.join(gen_path, 'stft_mel_100/')\n",
    "stft_mfcc_100_path = os.path.join(gen_path, 'stft_mfcc_100/')\n",
    "\n",
    "stft_mel_500_path = os.path.join(gen_path, 'stft_mel_500/')\n",
    "stft_mfcc_500_path = os.path.join(gen_path, 'stft_mfcc_500/')\n",
    "\n",
    "# Audio path\n",
    "audio_path = os.path.join('dataset/birdclef-2024/', 'train_audio/')"
   ]
  },
  {
   "cell_type": "markdown",
   "metadata": {},
   "source": [
    "### Copy files to train, test and validation"
   ]
  },
  {
   "cell_type": "code",
   "execution_count": 3,
   "metadata": {},
   "outputs": [],
   "source": [
    "list_audio = {}\n",
    "\n",
    "# Class and files\n",
    "for dir in os.listdir(audio_path):\n",
    "    dir_path = os.path.join(audio_path, dir)\n",
    "    if os.path.isdir(dir_path):\n",
    "        for file in os.listdir(dir_path):\n",
    "            if dir not in list_audio:\n",
    "                list_audio[dir] = []\n",
    "            list_audio[dir].append(file)"
   ]
  },
  {
   "cell_type": "code",
   "execution_count": 11,
   "metadata": {},
   "outputs": [],
   "source": [
    "def split_data(source_dir, base_output_dir, percentage_test=0.2, percentage_val=0.1):\n",
    "    \n",
    "    for split in ['train', 'test', 'val']:\n",
    "        os.makedirs(os.path.join(base_output_dir, split), exist_ok=True)\n",
    "\n",
    "    class_folders = [d for d in os.listdir(source_dir) if os.path.isdir(os.path.join(source_dir, d))]\n",
    "\n",
    "    for class_folder in class_folders:\n",
    "        class_path = os.path.join(source_dir, class_folder)\n",
    "        files = os.listdir(class_path)\n",
    "        \n",
    "        random.shuffle(files)\n",
    "\n",
    "        num_test = int(len(files) * percentage_test)\n",
    "        num_val = int(len(files) * percentage_val)\n",
    "\n",
    "        test_files = files[:num_test]\n",
    "        val_files = files[num_test:num_test + num_val]\n",
    "        train_files = files[num_test + num_val:]\n",
    "\n",
    "        # Coping files\n",
    "        for split, split_files in zip(['train','test', 'val'],[train_files, test_files, val_files]):\n",
    "            split_class_folder = os.path.join(base_output_dir, split, class_folder)\n",
    "            os.makedirs(split_class_folder, exist_ok=True)\n",
    "            for file in split_files:\n",
    "                shutil.copy(os.path.join(class_path, file), split_class_folder)"
   ]
  },
  {
   "cell_type": "code",
   "execution_count": null,
   "metadata": {},
   "outputs": [
    {
     "name": "stderr",
     "output_type": "stream",
     "text": [
      "Processing stft_mfcc_full_train_images: 100%|██████████| 9/9 [05:13<00:00, 34.87s/it]\n"
     ]
    }
   ],
   "source": [
    "image_paths = [\n",
    "    images_path,\n",
    "    normalized_images_path,\n",
    "    filtered_images_path,\n",
    "\n",
    "    stft_mel_1mn_path,\n",
    "    stft_mel_3mn_path,\n",
    "    stft_mel_5mn_path,\n",
    "    stft_mel_50_path,\n",
    "    stft_mel_100_path,\n",
    "    stft_mel_500_path,\n",
    "\n",
    "    stft_mfcc_1mn_path,\n",
    "    stft_mfcc_3mn_path,\n",
    "    stft_mfcc_5mn_path,\n",
    "    stft_mfcc_50_path,\n",
    "    stft_mfcc_100_path,\n",
    "    stft_mfcc_500_path,\n",
    "    \n",
    "    stft_mel_full_train_images_path,\n",
    "    stft_mfcc_full_train_images_path\n",
    "]\n",
    "\n",
    "with tqdm(total=len(image_paths), dynamic_ncols=True) as pbar:\n",
    "    for path in image_paths:\n",
    "        pbar.set_description(f'Processing {path.split(\"/\")[-2]}')\n",
    "        source_dir = os.path.join(path, path.split('/')[-2] + '/')\n",
    "        output_dir = path\n",
    "        split_data(source_dir, output_dir)\n",
    "        pbar.update(1)"
   ]
  },
  {
   "cell_type": "markdown",
   "metadata": {},
   "source": [
    "# Data setup"
   ]
  },
  {
   "cell_type": "code",
   "execution_count": 15,
   "metadata": {},
   "outputs": [],
   "source": [
    "def get_class_names(path):\n",
    "    class_names = []\n",
    "\n",
    "    for class_name in os.listdir(path):\n",
    "        class_names.append(class_name)\n",
    "    \n",
    "    return class_names"
   ]
  },
  {
   "cell_type": "code",
   "execution_count": 16,
   "metadata": {},
   "outputs": [],
   "source": [
    "def generator(data_dir, class_names, image_shape=(32,32), batch_size=8, class_mode='categorical', subset='validation', shuffle=False):\n",
    "\n",
    "    datagen = ImageDataGenerator(rescale = 1./255., samplewise_center=True, samplewise_std_normalization=True)\n",
    "\n",
    "    generator = datagen.flow_from_directory(\n",
    "        data_dir,\n",
    "        target_size=image_shape,\n",
    "        batch_size=batch_size,\n",
    "        classes=class_names,\n",
    "        class_mode=class_mode,\n",
    "        subset='training',\n",
    "        shuffle=shuffle\n",
    "    )\n",
    "\n",
    "    return generator"
   ]
  },
  {
   "cell_type": "markdown",
   "metadata": {},
   "source": [
    "### Train paths"
   ]
  },
  {
   "cell_type": "code",
   "execution_count": null,
   "metadata": {},
   "outputs": [
    {
     "ename": "NameError",
     "evalue": "name 'os' is not defined",
     "output_type": "error",
     "traceback": [
      "\u001b[1;31m---------------------------------------------------------------------------\u001b[0m",
      "\u001b[1;31mNameError\u001b[0m                                 Traceback (most recent call last)",
      "Cell \u001b[1;32mIn[1], line 1\u001b[0m\n\u001b[1;32m----> 1\u001b[0m images_path_train \u001b[38;5;241m=\u001b[39m os\u001b[38;5;241m.\u001b[39mpath\u001b[38;5;241m.\u001b[39mjoin(images_path, \u001b[38;5;124m'\u001b[39m\u001b[38;5;124mtrain/\u001b[39m\u001b[38;5;124m'\u001b[39m)\n\u001b[0;32m      2\u001b[0m normalized_train_path \u001b[38;5;241m=\u001b[39m os\u001b[38;5;241m.\u001b[39mpath\u001b[38;5;241m.\u001b[39mjoin(normalized_images_path, \u001b[38;5;124m'\u001b[39m\u001b[38;5;124mtrain/\u001b[39m\u001b[38;5;124m'\u001b[39m)\n\u001b[0;32m      3\u001b[0m filtered_train_path \u001b[38;5;241m=\u001b[39m os\u001b[38;5;241m.\u001b[39mpath\u001b[38;5;241m.\u001b[39mjoin(filtered_images_path, \u001b[38;5;124m'\u001b[39m\u001b[38;5;124mtrain/\u001b[39m\u001b[38;5;124m'\u001b[39m)\n",
      "\u001b[1;31mNameError\u001b[0m: name 'os' is not defined"
     ]
    }
   ],
   "source": [
    "images_path_train = os.path.join(images_path, 'train/')\n",
    "normalized_train_path = os.path.join(normalized_images_path, 'train/')\n",
    "filtered_train_path = os.path.join(filtered_images_path, 'train/')\n",
    "\n",
    "stft_mfcc_1mn_train_path = os.path.join(stft_mfcc_1mn_path, 'train/')\n",
    "stft_mel_1mn_train_path = os.path.join(stft_mel_1mn_path, 'train/')\n",
    "\n",
    "stft_mfcc_3mn_train_path = os.path.join(stft_mfcc_3mn_path, 'train/')\n",
    "stft_mel_3mn_train_path = os.path.join(stft_mel_3mn_path, 'train/')\n",
    "\n",
    "stft_mfcc_5mn_train_path = os.path.join(stft_mfcc_5mn_path, 'train/')\n",
    "stft_mel_5mn_train_path = os.path.join(stft_mel_5mn_path, 'train/')\n",
    "\n",
    "stft_mfcc_50_train_path = os.path.join(stft_mfcc_50_path, 'train/')\n",
    "stft_mel_50_train_path = os.path.join(stft_mel_50_path, 'train/')\n",
    "\n",
    "stft_mfcc_100_train_path = os.path.join(stft_mfcc_100_path, 'train/')\n",
    "stft_mel_100_train_path = os.path.join(stft_mel_100_path, 'train/')\n",
    "\n",
    "stft_mfcc_500_train_path = os.path.join(stft_mfcc_500_path, 'train/')\n",
    "stft_mel_500_train_path = os.path.join(stft_mel_500_path, 'train/')\n",
    "\n",
    "stft_mel_full_train_path = os.path.join(stft_mel_full_train_images_path,'train/')\n",
    "stft_mfcc_full_train_path = os.path.join(stft_mfcc_full_train_images_path,'train/')"
   ]
  },
  {
   "cell_type": "markdown",
   "metadata": {},
   "source": [
    "### Test paths"
   ]
  },
  {
   "cell_type": "code",
   "execution_count": null,
   "metadata": {},
   "outputs": [],
   "source": [
    "images_path_test = os.path.join(images_path, 'test/')\n",
    "normalized_test_path = os.path.join(normalized_images_path, 'test/')\n",
    "filtered_test_path = os.path.join(filtered_images_path, 'test/')\n",
    "\n",
    "stft_mfcc_1mn_test_path = os.path.join(stft_mfcc_1mn_path, 'test/')\n",
    "stft_mel_1mn_test_path = os.path.join(stft_mel_1mn_path, 'test/')\n",
    "\n",
    "stft_mfcc_3mn_test_path = os.path.join(stft_mfcc_3mn_path, 'test/')\n",
    "stft_mel_3mn_test_path = os.path.join(stft_mel_3mn_path, 'test/')\n",
    "\n",
    "stft_mfcc_5mn_test_path = os.path.join(stft_mfcc_5mn_path, 'test/')\n",
    "stft_mel_5mn_test_path = os.path.join(stft_mel_5mn_path, 'test/')\n",
    "\n",
    "stft_mfcc_50_test_path = os.path.join(stft_mfcc_50_path, 'test/')\n",
    "stft_mel_50_test_path = os.path.join(stft_mel_50_path, 'test/')\n",
    "\n",
    "stft_mfcc_100_test_path = os.path.join(stft_mfcc_100_path, 'test/')\n",
    "stft_mel_100_test_path = os.path.join(stft_mel_100_path, 'test/')\n",
    "\n",
    "stft_mfcc_500_test_path = os.path.join(stft_mfcc_500_path, 'test/')\n",
    "stft_mel_500_test_path = os.path.join(stft_mel_500_path, 'test/')\n",
    "\n",
    "stft_mel_full_test_path = os.path.join(stft_mel_full_train_images_path,'test/')\n",
    "stft_mfcc_full_test_path = os.path.join(stft_mfcc_full_train_images_path,'test/')"
   ]
  },
  {
   "cell_type": "markdown",
   "metadata": {},
   "source": [
    "### Val paths"
   ]
  },
  {
   "cell_type": "code",
   "execution_count": null,
   "metadata": {},
   "outputs": [],
   "source": [
    "images_path_val = os.path.join(images_path, 'val/')\n",
    "normalized_val_path = os.path.join(normalized_images_path, 'val/')\n",
    "filtered_val_path = os.path.join(filtered_images_path, 'val/')\n",
    "\n",
    "stft_mfcc_1mn_val_path = os.path.join(stft_mfcc_1mn_path, 'val/')\n",
    "stft_mel_1mn_val_path = os.path.join(stft_mel_1mn_path, 'val/')\n",
    "\n",
    "stft_mfcc_3mn_val_path = os.path.join(stft_mfcc_3mn_path, 'val/')\n",
    "stft_mel_3mn_val_path = os.path.join(stft_mel_3mn_path, 'val/')\n",
    "\n",
    "stft_mfcc_5mn_val_path = os.path.join(stft_mfcc_5mn_path, 'val/')\n",
    "stft_mel_5mn_val_path = os.path.join(stft_mel_5mn_path, 'val/')\n",
    "\n",
    "stft_mfcc_50_val_path = os.path.join(stft_mfcc_50_path, 'val/')\n",
    "stft_mel_50_val_path = os.path.join(stft_mel_50_path, 'val/')\n",
    "\n",
    "stft_mfcc_100_val_path = os.path.join(stft_mfcc_100_path, 'val/')\n",
    "stft_mel_100_val_path = os.path.join(stft_mel_100_path, 'val/')\n",
    "\n",
    "stft_mfcc_500_val_path = os.path.join(stft_mfcc_500_path, 'val/')\n",
    "stft_mel_500_val_path = os.path.join(stft_mel_500_path, 'val/')\n",
    "\n",
    "stft_mel_full_val_path = os.path.join(stft_mel_full_train_images_path,'val/')\n",
    "stft_mfcc_full_val_path = os.path.join(stft_mfcc_full_train_images_path,'val/')"
   ]
  },
  {
   "cell_type": "markdown",
   "metadata": {},
   "source": [
    "### Get class names"
   ]
  },
  {
   "cell_type": "code",
   "execution_count": null,
   "metadata": {},
   "outputs": [],
   "source": [
    "class_names_images = get_class_names(images_path_train)\n",
    "class_names_normalized = get_class_names(normalized_train_path)\n",
    "class_names_filtered = get_class_names(filtered_train_path)\n",
    "\n",
    "class_names_mfcc_1mn = get_class_names(stft_mfcc_1mn_train_path)\n",
    "class_names_mel_1mn = get_class_names(stft_mel_1mn_train_path)\n",
    "\n",
    "class_names_mfcc_3mn = get_class_names(stft_mfcc_3mn_train_path)\n",
    "class_names_mel_3mn = get_class_names(stft_mel_3mn_train_path)\n",
    "\n",
    "class_names_mfcc_5mn = get_class_names(stft_mfcc_5mn_train_path)\n",
    "class_names_mel_5mn = get_class_names(stft_mel_5mn_train_path)\n",
    "\n",
    "class_names_mfcc_50 = get_class_names(stft_mfcc_50_train_path)\n",
    "class_names_mel_50 = get_class_names(stft_mel_50_train_path)\n",
    "\n",
    "class_names_mfcc_100 = get_class_names(stft_mfcc_100_train_path)\n",
    "class_names_mel_100 = get_class_names(stft_mel_100_train_path)\n",
    "\n",
    "class_names_mfcc_500 = get_class_names(stft_mfcc_500_train_path)\n",
    "class_names_mel_500 = get_class_names(stft_mel_500_train_path)\n",
    "\n",
    "class_names_stft_mel_full = get_class_names(stft_mel_full_train_path)\n",
    "class_names_stft_mfcc_full = get_class_names(stft_mfcc_full_train_path)"
   ]
  },
  {
   "cell_type": "markdown",
   "metadata": {},
   "source": [
    "### Train Generators"
   ]
  },
  {
   "cell_type": "code",
   "execution_count": null,
   "metadata": {},
   "outputs": [
    {
     "name": "stdout",
     "output_type": "stream",
     "text": [
      "Found 17248 images belonging to 182 classes.\n",
      "Found 17248 images belonging to 182 classes.\n",
      "Found 17248 images belonging to 182 classes.\n",
      "Found 2065 images belonging to 31 classes.\n",
      "Found 2065 images belonging to 31 classes.\n",
      "Found 2065 images belonging to 31 classes.\n",
      "Found 17248 images belonging to 182 classes.\n",
      "Found 17248 images belonging to 182 classes.\n"
     ]
    }
   ],
   "source": [
    "img_shape = (71,71)\n",
    "\n",
    "train_img = generator(data_dir=images_path_train,image_shape=img_shape, class_names=class_names_images, batch_size=128, shuffle=True)\n",
    "train_normlized = generator(data_dir=normalized_train_path,image_shape=img_shape, class_names=class_names_normalized, batch_size=128, shuffle=True)\n",
    "train_filtered = generator(data_dir=filtered_train_path,image_shape=img_shape, class_names=class_names_filtered, batch_size=128, shuffle=True)\n",
    "\n",
    "train_stft_mfcc_1mn = generator(data_dir=stft_mfcc_1mn_train_path, image_shape=img_shape, class_names=class_names_mfcc_1mn, batch_size=128, shuffle=True)\n",
    "train_stft_mel_1mn = generator(data_dir=stft_mel_1mn_train_path, image_shape=img_shape, class_names=class_names_mel_1mn, batch_size=128, shuffle=True)\n",
    "\n",
    "train_stft_mfcc_3mn = generator(data_dir=stft_mfcc_3mn_train_path, image_shape=img_shape, class_names=class_names_mfcc_3mn, batch_size=128, shuffle=True)\n",
    "train_stft_mel_3mn = generator(data_dir=stft_mel_3mn_train_path, image_shape=img_shape, class_names=class_names_mel_3mn, batch_size=128, shuffle=True)\n",
    "\n",
    "train_stft_mfcc_5mn = generator(data_dir=stft_mfcc_5mn_train_path, image_shape=img_shape, class_names=class_names_mfcc_5mn, batch_size=128, shuffle=True)\n",
    "train_stft_mel_5mn = generator(data_dir=stft_mel_5mn_train_path, image_shape=img_shape, class_names=class_names_mel_5mn, batch_size=128, shuffle=True)\n",
    "\n",
    "train_stft_mfcc_50 = generator(data_dir=stft_mfcc_50_train_path, image_shape=img_shape, class_names=class_names_mfcc_50, batch_size=128, shuffle=True)\n",
    "train_stft_mel_50 = generator(data_dir=stft_mel_50_train_path, image_shape=img_shape, class_names=class_names_mel_50, batch_size=128, shuffle=True)\n",
    "\n",
    "train_stft_mfcc_100 = generator(data_dir=stft_mfcc_100_train_path, image_shape=img_shape, class_names=class_names_mfcc_100, batch_size=128, shuffle=True)\n",
    "train_stft_mel_100 = generator(data_dir=stft_mel_100_train_path, image_shape=img_shape, class_names=class_names_mel_100, batch_size=128, shuffle=True)\n",
    "\n",
    "train_stft_mfcc_500 = generator(data_dir=stft_mfcc_500_train_path, image_shape=img_shape, class_names=class_names_mfcc_500, batch_size=128, shuffle=True)\n",
    "train_stft_mel_500 = generator(data_dir=stft_mel_500_train_path, image_shape=img_shape, class_names=class_names_mel_500, batch_size=128, shuffle=True)\n",
    "\n",
    "train_stft_mel_full = generator(data_dir=stft_mel_full_train_path,image_shape=img_shape, class_names=class_names_stft_mel_full, batch_size=128, shuffle=True)\n",
    "train_stft_mfcc_full = generator(data_dir=stft_mfcc_full_train_path,image_shape=img_shape, class_names=class_names_stft_mfcc_full, batch_size=128, shuffle=True)"
   ]
  },
  {
   "cell_type": "markdown",
   "metadata": {},
   "source": [
    "### Test Generators"
   ]
  },
  {
   "cell_type": "code",
   "execution_count": null,
   "metadata": {},
   "outputs": [
    {
     "name": "stdout",
     "output_type": "stream",
     "text": [
      "Found 4835 images belonging to 182 classes.\n",
      "Found 4835 images belonging to 182 classes.\n",
      "Found 4835 images belonging to 182 classes.\n",
      "Found 571 images belonging to 31 classes.\n",
      "Found 571 images belonging to 31 classes.\n",
      "Found 571 images belonging to 31 classes.\n",
      "Found 4835 images belonging to 182 classes.\n",
      "Found 4835 images belonging to 182 classes.\n"
     ]
    }
   ],
   "source": [
    "test_img = generator(data_dir=images_path_test,image_shape=(71,71), class_names=class_names_images, batch_size=128, shuffle=False)\n",
    "test_normlized = generator(data_dir=normalized_test_path,image_shape=img_shape, class_names=class_names_normalized, batch_size=128, shuffle=False)\n",
    "test_filtered = generator(data_dir=filtered_test_path,image_shape=img_shape, class_names=class_names_filtered, batch_size=128, shuffle=False)\n",
    "\n",
    "test_stft_mfcc_1mn = generator(data_dir=stft_mfcc_1mn_test_path, image_shape=img_shape, class_names=class_names_mfcc_1mn, batch_size=128, shuffle=False)\n",
    "test_stft_mel_1mn = generator(data_dir=stft_mel_1mn_test_path, image_shape=img_shape, class_names=class_names_mel_1mn, batch_size=128, shuffle=False)\n",
    "\n",
    "test_stft_mfcc_3mn = generator(data_dir=stft_mfcc_3mn_test_path, image_shape=img_shape, class_names=class_names_mfcc_3mn, batch_size=128, shuffle=False)\n",
    "test_stft_mel_3mn = generator(data_dir=stft_mel_3mn_test_path, image_shape=img_shape, class_names=class_names_mel_3mn, batch_size=128, shuffle=False)\n",
    "\n",
    "test_stft_mfcc_5mn = generator(data_dir=stft_mfcc_5mn_test_path, image_shape=img_shape, class_names=class_names_mfcc_5mn, batch_size=128, shuffle=False)\n",
    "test_stft_mel_5mn = generator(data_dir=stft_mel_5mn_test_path, image_shape=img_shape, class_names=class_names_mel_5mn, batch_size=128, shuffle=False)\n",
    "\n",
    "test_stft_mfcc_50 = generator(data_dir=stft_mfcc_50_test_path, image_shape=img_shape, class_names=class_names_mfcc_50, batch_size=128, shuffle=False)\n",
    "test_stft_mel_50 = generator(data_dir=stft_mel_50_test_path, image_shape=img_shape, class_names=class_names_mel_50, batch_size=128, shuffle=False)\n",
    "\n",
    "test_stft_mfcc_100 = generator(data_dir=stft_mfcc_100_test_path, image_shape=img_shape, class_names=class_names_mfcc_100, batch_size=128, shuffle=False)\n",
    "test_stft_mel_100 = generator(data_dir=stft_mel_100_test_path, image_shape=img_shape, class_names=class_names_mel_100, batch_size=128, shuffle=False)\n",
    "\n",
    "test_stft_mfcc_500 = generator(data_dir=stft_mfcc_500_test_path, image_shape=img_shape, class_names=class_names_mfcc_500, batch_size=128, shuffle=False)\n",
    "test_stft_mel_500 = generator(data_dir=stft_mel_500_test_path, image_shape=img_shape, class_names=class_names_mel_500, batch_size=128, shuffle=False)\n",
    "\n",
    "test_stft_mel_full = generator(data_dir=stft_mel_full_test_path,image_shape=img_shape, class_names=class_names_stft_mel_full, batch_size=128, shuffle=False)\n",
    "test_stft_mfcc_full = generator(data_dir=stft_mfcc_full_test_path,image_shape=img_shape, class_names=class_names_stft_mfcc_full, batch_size=128, shuffle=False)"
   ]
  },
  {
   "cell_type": "markdown",
   "metadata": {},
   "source": [
    "### Val Generators"
   ]
  },
  {
   "cell_type": "code",
   "execution_count": null,
   "metadata": {},
   "outputs": [
    {
     "name": "stdout",
     "output_type": "stream",
     "text": [
      "Found 2376 images belonging to 182 classes.\n",
      "Found 2376 images belonging to 182 classes.\n",
      "Found 2376 images belonging to 182 classes.\n",
      "Found 275 images belonging to 31 classes.\n",
      "Found 275 images belonging to 31 classes.\n",
      "Found 275 images belonging to 31 classes.\n",
      "Found 2376 images belonging to 182 classes.\n",
      "Found 2376 images belonging to 182 classes.\n"
     ]
    }
   ],
   "source": [
    "val_img = generator(data_dir=images_path_val,image_shape=(71,71), class_names=class_names_images, batch_size=128, shuffle=True)\n",
    "val_normlized = generator(data_dir=normalized_val_path,image_shape=img_shape, class_names=class_names_normalized, batch_size=128, shuffle=True)\n",
    "val_filtered = generator(data_dir=filtered_val_path,image_shape=img_shape, class_names=class_names_filtered, batch_size=128, shuffle=True)\n",
    "\n",
    "val_stft_mfcc_1mn = generator(data_dir=stft_mfcc_1mn_val_path, image_shape=img_shape, class_names=class_names_mfcc_1mn, batch_size=128, shuffle=True)\n",
    "val_stft_mel_1mn = generator(data_dir=stft_mel_1mn_val_path, image_shape=img_shape, class_names=class_names_mel_1mn, batch_size=128, shuffle=True)\n",
    "\n",
    "val_stft_mfcc_3mn = generator(data_dir=stft_mfcc_3mn_val_path, image_shape=img_shape, class_names=class_names_mfcc_3mn, batch_size=128, shuffle=True)\n",
    "val_stft_mel_3mn = generator(data_dir=stft_mel_3mn_val_path, image_shape=img_shape, class_names=class_names_mel_3mn, batch_size=128, shuffle=True)\n",
    "\n",
    "val_stft_mfcc_5mn = generator(data_dir=stft_mfcc_5mn_val_path, image_shape=img_shape, class_names=class_names_mfcc_5mn, batch_size=128, shuffle=True)\n",
    "val_stft_mel_5mn = generator(data_dir=stft_mel_5mn_val_path, image_shape=img_shape, class_names=class_names_mel_5mn, batch_size=128, shuffle=True)\n",
    "\n",
    "val_stft_mfcc_50 = generator(data_dir=stft_mfcc_50_val_path, image_shape=img_shape, class_names=class_names_mfcc_50, batch_size=128, shuffle=True)\n",
    "val_stft_mel_50 = generator(data_dir=stft_mel_50_val_path, image_shape=img_shape, class_names=class_names_mel_50, batch_size=128, shuffle=True)\n",
    "\n",
    "val_stft_mfcc_100 = generator(data_dir=stft_mfcc_100_val_path, image_shape=img_shape, class_names=class_names_mfcc_100, batch_size=128, shuffle=True)\n",
    "val_stft_mel_100 = generator(data_dir=stft_mel_100_val_path, image_shape=img_shape, class_names=class_names_mel_100, batch_size=128, shuffle=True)\n",
    "\n",
    "val_stft_mfcc_500 = generator(data_dir=stft_mfcc_500_val_path, image_shape=img_shape, class_names=class_names_mfcc_500, batch_size=128, shuffle=True)\n",
    "val_stft_mel_500 = generator(data_dir=stft_mel_500_val_path, image_shape=img_shape, class_names=class_names_mel_500, batch_size=128, shuffle=True)\n",
    "\n",
    "val_stft_mel_full = generator(data_dir=stft_mel_full_val_path,image_shape=img_shape, class_names=class_names_stft_mel_full, batch_size=128, shuffle=True)\n",
    "val_stft_mfcc_full = generator(data_dir=stft_mfcc_full_val_path,image_shape=img_shape, class_names=class_names_stft_mfcc_full, batch_size=128, shuffle=True)"
   ]
  },
  {
   "cell_type": "markdown",
   "metadata": {},
   "source": [
    "# Convolutional Neural Network (CNN)"
   ]
  },
  {
   "cell_type": "code",
   "execution_count": 25,
   "metadata": {},
   "outputs": [],
   "source": [
    "def get_model(base_model, hidden_layers, activation, output, output_activation, dropout=None, freeze_base_model=True):\n",
    "    # freeze layers\n",
    "    for lys in base_model.layers:\n",
    "                lys.trainable = not freeze_base_model\n",
    "    mdl = base_model.output\n",
    "\n",
    "    for hl in hidden_layers:\n",
    "        mdl = tf.keras.layers.Dense(hl, activation=activation)(mdl)\n",
    "    if dropout:\n",
    "        mdl = tf.keras.layers.Dropout(dropout)(mdl)\n",
    "    mdl = tf.keras.layers.Dense(output, activation=output_activation)(mdl)\n",
    "    model = tf.keras.models.Model(base_model.input, mdl)\n",
    "    return model"
   ]
  },
  {
   "cell_type": "markdown",
   "metadata": {},
   "source": [
    "### DenseNet"
   ]
  },
  {
   "cell_type": "code",
   "execution_count": null,
   "metadata": {},
   "outputs": [],
   "source": [
    "def densenet(path, learning_rate, epochs , output, validation ,shape=(32,32,3), hidden_layers=[512], activation='relu', output_activation='softmax'):\n",
    "    \n",
    "    model_densenet = tf.keras.applications.DenseNet121(input_shape=shape, include_top=False, weights='imagenet', pooling='max')\n",
    "    model_densenet = get_model(model_densenet, hidden_layers, activation, output, output_activation, freeze_base_model=False)\n",
    "    \n",
    "    model_densenet.compile(optimizer=optimizers.Adam(learning_rate=learning_rate), loss='categorical_crossentropy', metrics=['accuracy', 'mse'])\n",
    "    early_stopping = EarlyStopping(monitor='val_loss', patience=3, verbose=1, restore_best_weights=True)\n",
    "    reduce_lr = ReduceLROnPlateau(monitor='val_loss', factor=0.1, patience=2, verbose=1, min_lr=1e-6, min_delta=1e-3)\n",
    "\n",
    "    history = model_densenet.fit(path, epochs=epochs, validation_data=validation, callbacks=[early_stopping,reduce_lr])\n",
    "\n",
    "    return model_densenet, history"
   ]
  },
  {
   "cell_type": "markdown",
   "metadata": {},
   "source": [
    "### Xception"
   ]
  },
  {
   "cell_type": "code",
   "execution_count": null,
   "metadata": {},
   "outputs": [],
   "source": [
    "def xception(path, learning_rate, epochs , output, validation ,shape=(32,32,3), hidden_layers=[512], activation='relu', output_activation='softmax'):\n",
    "    \n",
    "    model_xception = tf.keras.applications.Xception(input_shape=shape, include_top=False, weights='imagenet', pooling='max')\n",
    "    model_xception = get_model(model_xception, hidden_layers, activation, output, output_activation, freeze_base_model=False)\n",
    "    \n",
    "    model_xception.compile(optimizer=optimizers.Adam(learning_rate=learning_rate), loss='categorical_crossentropy', metrics=['accuracy', 'mse'])\n",
    "    early_stopping = EarlyStopping(monitor='val_loss', patience=3, verbose=1, restore_best_weights=True)\n",
    "    reduce_lr = ReduceLROnPlateau(monitor='val_loss', factor=0.1, patience=2, verbose=1, min_lr=1e-6, min_delta=1e-3)\n",
    "\n",
    "    history = model_xception.fit(path, epochs=epochs, validation_data=validation, callbacks=[early_stopping,reduce_lr])\n",
    "\n",
    "    return model_xception, history"
   ]
  },
  {
   "cell_type": "markdown",
   "metadata": {},
   "source": [
    "### VGG19"
   ]
  },
  {
   "cell_type": "code",
   "execution_count": 2,
   "metadata": {},
   "outputs": [],
   "source": [
    "def vgg19(path, learning_rate, epochs , output, validation ,shape=(32,32,3), hidden_layers=[512], activation='relu', output_activation='softmax'):\n",
    "    \n",
    "    model_VGG19 = tf.keras.applications.VGG19(input_shape=shape, include_top=False, weights='imagenet', pooling='max')\n",
    "    model_VGG19 = get_model(model_VGG19, hidden_layers, activation, output, output_activation, freeze_base_model=False)\n",
    "    \n",
    "    model_VGG19.compile(optimizer=optimizers.Adam(learning_rate=learning_rate), loss='categorical_crossentropy', metrics=['accuracy', 'mse'])\n",
    "    early_stopping = EarlyStopping(monitor='val_loss', patience=3, verbose=1, restore_best_weights=True)\n",
    "    reduce_lr = ReduceLROnPlateau(monitor='val_loss', factor=0.1, patience=2, verbose=1, min_lr=1e-6, min_delta=1e-3)\n",
    "\n",
    "    history = model_VGG19.fit(path, epochs=epochs, validation_data=validation, callbacks=[early_stopping,reduce_lr])\n",
    "\n",
    "    return model_VGG19, history"
   ]
  },
  {
   "cell_type": "markdown",
   "metadata": {},
   "source": [
    "## Train"
   ]
  },
  {
   "cell_type": "code",
   "execution_count": null,
   "metadata": {},
   "outputs": [],
   "source": [
    "def train(path, learning_rate, epochs , output, validation ,shape=(32,32, 3), hidden_layers=[512], activation='relu', output_activation='softmax'):\n",
    "    densenet_model, history_densenet = densenet(path=path, learning_rate=learning_rate, epochs=epochs, output=output,\n",
    "                                                    validation=validation,shape=shape,\n",
    "                                                    hidden_layers=hidden_layers, activation=activation, output_activation=output_activation)\n",
    "\n",
    "    xception_model, history_xception = xception(path=path, learning_rate=learning_rate, epochs=epochs, output=output,\n",
    "                                                    validation=validation,shape=shape,\n",
    "                                                    hidden_layers=hidden_layers, activation=activation, output_activation=output_activation)\n",
    "\n",
    "    vgg19_model, history_vgg19 = vgg19(path=path, learning_rate=learning_rate, epochs=epochs, output=output,\n",
    "                                                    validation=validation,shape=shape,\n",
    "                                                    hidden_layers=hidden_layers, activation=activation, output_activation=output_activation)\n",
    "    \n",
    "    return [densenet_model, history_densenet], [xception_model, history_xception], [vgg19_model, history_vgg19]"
   ]
  },
  {
   "cell_type": "markdown",
   "metadata": {},
   "source": [
    "### Simple MFCC Images"
   ]
  },
  {
   "cell_type": "code",
   "execution_count": null,
   "metadata": {},
   "outputs": [],
   "source": [
    "simple_mfcc_densenet, simple_mfcc_xception, simple_mfcc_vgg19 = train(path=train_img, learning_rate=0.001, epochs=50, output=len(class_names_images),\n",
    "                                                                        validation=val_img,shape=(img_shape[0], img_shape[1], 3),\n",
    "                                                                        hidden_layers=[512], activation='relu', output_activation='softmax')"
   ]
  },
  {
   "cell_type": "markdown",
   "metadata": {},
   "source": [
    "### Normalized Images"
   ]
  },
  {
   "cell_type": "code",
   "execution_count": null,
   "metadata": {},
   "outputs": [],
   "source": [
    "normalized_densenet, normalized_xception, normalized_vgg19 = train(path=train_normlized, learning_rate=0.001, epochs=50, output=len(class_names_images),\n",
    "                                                                        validation=normalized_val_path,shape=(img_shape[0], img_shape[1], 3),\n",
    "                                                                        hidden_layers=[512], activation='relu', output_activation='softmax')"
   ]
  },
  {
   "cell_type": "markdown",
   "metadata": {},
   "source": [
    "### Filtered Images"
   ]
  },
  {
   "cell_type": "code",
   "execution_count": null,
   "metadata": {},
   "outputs": [],
   "source": [
    "filtered_densenet, filtered_xception, filtered_vgg19 = train(path=train_filtered, learning_rate=0.001, epochs=50, output=len(class_names_images),\n",
    "                                                                        validation=filtered_val_path,shape=(img_shape[0], img_shape[1], 3),\n",
    "                                                                        hidden_layers=[512], activation='relu', output_activation='softmax')"
   ]
  },
  {
   "cell_type": "code",
   "execution_count": null,
   "metadata": {},
   "outputs": [],
   "source": [
    "stft_mfcc_1mn_densenet, stft_mfcc_1mn_xception, stft_mfcc_1mn_vgg19 = train(path=train_stft_mfcc_1mn , learning_rate=0.001, epochs=50, output=len(class_names_images),\n",
    "                                                                                    validation=stft_mfcc_1mn_val_path ,shape=(img_shape[0], img_shape[1], 3),\n",
    "                                                                                    hidden_layers=[512], activation='relu', output_activation='softmax')"
   ]
  },
  {
   "cell_type": "markdown",
   "metadata": {},
   "source": [
    "### STFT Mel and MFCC 1 minute Images"
   ]
  },
  {
   "cell_type": "code",
   "execution_count": null,
   "metadata": {},
   "outputs": [],
   "source": [
    "stft_mel_1mn_densenet, stft_mel_1mn_xception, stft_mel_1mn_vgg19 = train(path=train_stft_mel_1mn , learning_rate=0.001, epochs=50, output=len(class_names_images),\n",
    "                                                                        validation=stft_mel_1mn_val_path,shape=(img_shape[0], img_shape[1], 3),\n",
    "                                                                        hidden_layers=[512], activation='relu', output_activation='softmax')"
   ]
  },
  {
   "cell_type": "code",
   "execution_count": null,
   "metadata": {},
   "outputs": [],
   "source": [
    "stft_mfcc_3mn_densenet, stft_mfcc_3mn_xception, stft_mfcc_3mn_vgg19 = train(path=train_stft_mfcc_3mn , learning_rate=0.001, epochs=50, output=len(class_names_images),\n",
    "                                                                        validation=stft_mfcc_3mn_val_path,shape=(img_shape[0], img_shape[1], 3),\n",
    "                                                                        hidden_layers=[512], activation='relu', output_activation='softmax')"
   ]
  },
  {
   "cell_type": "markdown",
   "metadata": {},
   "source": [
    "### STFT Mel and MFCC 3 minute Images"
   ]
  },
  {
   "cell_type": "code",
   "execution_count": null,
   "metadata": {},
   "outputs": [],
   "source": [
    "stft_mel_3mn_densenet, stft_mel_3mn_xception, stft_mel_3mn_vgg19 = train(path=train_stft_mel_3mn, learning_rate=0.001, epochs=50, output=len(class_names_images),\n",
    "                                                                        validation=stft_mel_3mn_val_path,shape=(img_shape[0], img_shape[1], 3),\n",
    "                                                                        hidden_layers=[512], activation='relu', output_activation='softmax')"
   ]
  },
  {
   "cell_type": "code",
   "execution_count": null,
   "metadata": {},
   "outputs": [],
   "source": [
    "stft_mfcc_5mn_densenet, stft_mfcc_5mn_xception, stft_mfcc_5mn_vgg19 = train(path=train_stft_mfcc_5mn, learning_rate=0.001, epochs=50, output=len(class_names_images),\n",
    "                                                                        validation=stft_mfcc_5mn_val_path,shape=(img_shape[0], img_shape[1], 3),\n",
    "                                                                        hidden_layers=[512], activation='relu', output_activation='softmax')"
   ]
  },
  {
   "cell_type": "markdown",
   "metadata": {},
   "source": [
    "### STFT Mel and MFCC 5 minute Images"
   ]
  },
  {
   "cell_type": "code",
   "execution_count": null,
   "metadata": {},
   "outputs": [],
   "source": [
    "stft_mel_5mn_densenet, stft_mel_5mn_xception, stft_mel_5mn_vgg19 = train(path=train_stft_mel_5mn, learning_rate=0.001, epochs=50, output=len(class_names_images),\n",
    "                                                                        validation=stft_mel_5mn_val_path,shape=(img_shape[0], img_shape[1], 3),\n",
    "                                                                        hidden_layers=[512], activation='relu', output_activation='softmax')"
   ]
  },
  {
   "cell_type": "code",
   "execution_count": null,
   "metadata": {},
   "outputs": [],
   "source": [
    "stft_mfcc_50_densenet, stft_mfcc_50_xception, stft_mfcc_50_vgg19 = train(path=train_stft_mfcc_50, learning_rate=0.001, epochs=50, output=len(class_names_images),\n",
    "                                                                        validation=stft_mfcc_50_val_path,shape=(img_shape[0], img_shape[1], 3),\n",
    "                                                                        hidden_layers=[512], activation='relu', output_activation='softmax')"
   ]
  },
  {
   "cell_type": "markdown",
   "metadata": {},
   "source": [
    "### STFT Mel and MFCC: Groups with 50 &le; Images &le; 99"
   ]
  },
  {
   "cell_type": "code",
   "execution_count": null,
   "metadata": {},
   "outputs": [],
   "source": [
    "stft_mel_50_densenet, stft_mel_50_xception, stft_mel_50_vgg19 = train(path=train_stft_mel_50, learning_rate=0.001, epochs=50, output=len(class_names_images),\n",
    "                                                                        validation=stft_mel_50_val_path,shape=(img_shape[0], img_shape[1], 3),\n",
    "                                                                        hidden_layers=[512], activation='relu', output_activation='softmax')"
   ]
  },
  {
   "cell_type": "code",
   "execution_count": null,
   "metadata": {},
   "outputs": [],
   "source": [
    "stft_mfcc_100_densenet, stft_mfcc_100_xception, stft_mfcc_100_vgg19 = train(path=train_stft_mfcc_100, learning_rate=0.001, epochs=50, output=len(class_names_images),\n",
    "                                                                        validation=stft_mfcc_100_val_path,shape=(img_shape[0], img_shape[1], 3),\n",
    "                                                                        hidden_layers=[512], activation='relu', output_activation='softmax')"
   ]
  },
  {
   "cell_type": "markdown",
   "metadata": {},
   "source": [
    "### STFT Mel and MFCC: Groups with 100 &le; Images < 300"
   ]
  },
  {
   "cell_type": "code",
   "execution_count": null,
   "metadata": {},
   "outputs": [],
   "source": [
    "stft_mel_100_densenet, stft_mel_100_xception, stft_mel_100_vgg19 = train(path=train_stft_mel_100 , learning_rate=0.001, epochs=50, output=len(class_names_images),\n",
    "                                                                        validation=stft_mel_100_val_path,shape=(img_shape[0], img_shape[1], 3),\n",
    "                                                                        hidden_layers=[512], activation='relu', output_activation='softmax')"
   ]
  },
  {
   "cell_type": "code",
   "execution_count": null,
   "metadata": {},
   "outputs": [],
   "source": [
    "stft_mfcc_500_densenet, stft_mfcc_500_xception, stft_mfcc_500_vgg19 = train(path=train_stft_mfcc_500 , learning_rate=0.001, epochs=50, output=len(class_names_images),\n",
    "                                                                        validation=stft_mfcc_500_val_path,shape=(img_shape[0], img_shape[1], 3),\n",
    "                                                                        hidden_layers=[512], activation='relu', output_activation='softmax')"
   ]
  },
  {
   "cell_type": "markdown",
   "metadata": {},
   "source": [
    "### STFT Mel and MFCC: Groups with 300 &le; Images &le; 500"
   ]
  },
  {
   "cell_type": "code",
   "execution_count": null,
   "metadata": {},
   "outputs": [],
   "source": [
    "stft_mel_500_densenet, stft_mel_500_xception, stft_mel_500_vgg19 = train(path=train_stft_mel_500, learning_rate=0.001, epochs=50, output=len(class_names_images),\n",
    "                                                                        validation=stft_mel_500_val_path,shape=(img_shape[0], img_shape[1], 3),\n",
    "                                                                        hidden_layers=[512], activation='relu', output_activation='softmax')"
   ]
  },
  {
   "cell_type": "markdown",
   "metadata": {},
   "source": [
    "### MFCC and Mel: Full Images "
   ]
  },
  {
   "cell_type": "code",
   "execution_count": null,
   "metadata": {},
   "outputs": [],
   "source": [
    "stft_mel_full_densenet, stft_mel_full_xception, stft_mel_full_vgg19 = train(path=train_stft_mel_full, learning_rate=0.001, epochs=50, output=len(class_names_images),\n",
    "                                                                        validation=stft_mel_full_val_path ,shape=(img_shape[0], img_shape[1], 3),\n",
    "                                                                        hidden_layers=[512], activation='relu', output_activation='softmax')"
   ]
  },
  {
   "cell_type": "code",
   "execution_count": null,
   "metadata": {},
   "outputs": [],
   "source": [
    "stft_mfcc_full_densenet, stft_mfcc_full_xception, stft_mfcc_full_vgg19 = train(path=train_stft_mfcc_full, learning_rate=0.001, epochs=50, output=len(class_names_images),\n",
    "                                                                        validation=stft_mfcc_full_val_path,shape=(img_shape[0], img_shape[1], 3),\n",
    "                                                                        hidden_layers=[512], activation='relu', output_activation='softmax')"
   ]
  },
  {
   "cell_type": "markdown",
   "metadata": {},
   "source": [
    "### Save results"
   ]
  },
  {
   "cell_type": "code",
   "execution_count": null,
   "metadata": {},
   "outputs": [],
   "source": []
  },
  {
   "cell_type": "code",
   "execution_count": 129,
   "metadata": {},
   "outputs": [
    {
     "data": {
      "image/png": "[encoded data removed]",
      "text/plain": [
       "<Figure size 640x480 with 1 Axes>"
      ]
     },
     "metadata": {},
     "output_type": "display_data"
    }
   ],
   "source": [
    "hist = {'loss': history.history['loss'], 'val_loss': history.history['val_loss']}\n",
    "sns.lineplot(hist, palette='viridis')\n",
    "plt.savefig('image_mfcc_train_densnet', bbox_inches='tight', pad_inches=0, transparent=True)"
   ]
  },
  {
   "cell_type": "code",
   "execution_count": 97,
   "metadata": {},
   "outputs": [],
   "source": [
    "pd.DataFrame(history.history).to_csv('hist_obj_stft_mel.csv')"
   ]
  },
  {
   "cell_type": "code",
   "execution_count": null,
   "metadata": {},
   "outputs": [],
   "source": [
    "pd.DataFrame(hist).to_csv('hist_img_mfcc_train_densnet.csv', index=False)\n"
   ]
  },
  {
   "cell_type": "code",
   "execution_count": null,
   "metadata": {},
   "outputs": [],
   "source": [
    "model_densenet.save('img_mfcc_densenet.h5')\n"
   ]
  },
  {
   "cell_type": "code",
   "execution_count": null,
   "metadata": {},
   "outputs": [],
   "source": [
    "model_densenet_stft.save('stft_mel_full.h5') # 53.07 -> 182 clases, 35.92 F1 Score"
   ]
  },
  {
   "cell_type": "code",
   "execution_count": null,
   "metadata": {},
   "outputs": [],
   "source": [
    "model_xception_stft.save('stft_mel_xception_full.h5') # 51.09 -> 182 clases, 32.34 F1 Score"
   ]
  },
  {
   "cell_type": "markdown",
   "metadata": {},
   "source": [
    "# Metrics"
   ]
  },
  {
   "cell_type": "code",
   "execution_count": 77,
   "metadata": {},
   "outputs": [],
   "source": [
    "def pred_and_tests(model, test_gen):\n",
    "    y_pred = model.predict(test_gen)\n",
    "    y_pred = np.argmax(y_pred, axis=1)\n",
    "    y_test = test_gen.classes\n",
    "\n",
    "    return y_pred, y_test"
   ]
  },
  {
   "cell_type": "markdown",
   "metadata": {},
   "source": [
    "### F1 Score"
   ]
  },
  {
   "cell_type": "code",
   "execution_count": 103,
   "metadata": {},
   "outputs": [
    {
     "name": "stdout",
     "output_type": "stream",
     "text": [
      "[[0. 0. 0. ... 0. 0. 0.]\n",
      " [0. 0. 0. ... 0. 0. 0.]\n",
      " [0. 0. 0. ... 0. 0. 0.]\n",
      " ...\n",
      " [0. 0. 0. ... 0. 0. 0.]\n",
      " [0. 0. 0. ... 0. 0. 0.]\n",
      " [0. 0. 0. ... 0. 0. 0.]]\n"
     ]
    }
   ],
   "source": [
    "print(test_stft_mel_full[0][1])"
   ]
  },
  {
   "cell_type": "code",
   "execution_count": 132,
   "metadata": {},
   "outputs": [],
   "source": [
    "for i in range(len(test_stft_mel_full)):\n",
    "    if i == 0:\n",
    "        labels = test_stft_mel_full[i][1]\n",
    "    else:\n",
    "        labels = np.concatenate([labels, test_stft_mel_full[i][1]])"
   ]
  },
  {
   "cell_type": "code",
   "execution_count": 133,
   "metadata": {},
   "outputs": [
    {
     "name": "stdout",
     "output_type": "stream",
     "text": [
      "38/38 [==============================] - 10s 267ms/step\n",
      "F1 Score (weighted): 0.3234\n",
      "              precision    recall  f1-score   support\n",
      "\n",
      "      asbfly       0.09      0.10      0.09        21\n",
      "     ashdro1       0.15      0.19      0.17        21\n",
      "     ashpri1       0.43      0.32      0.36        19\n",
      "     ashwoo2       0.44      0.44      0.44         9\n",
      "     asikoe2       0.63      0.65      0.64        55\n",
      "     asiope1       0.00      0.00      0.00         1\n",
      "     aspfly1       0.00      0.00      0.00         5\n",
      "     aspswi1       0.00      0.00      0.00         5\n",
      "     barfly1       0.00      0.00      0.00         4\n",
      "      barswa       0.54      0.52      0.53       100\n",
      "      bcnher       0.62      0.64      0.63       100\n",
      "     bkcbul1       0.50      0.25      0.33         4\n",
      "     bkrfla1       0.36      0.80      0.50         5\n",
      "     bkskit1       0.76      0.77      0.77        53\n",
      "      bkwsti       0.71      0.75      0.73       100\n",
      "     bladro1       0.14      0.12      0.13        25\n",
      "     blaeag1       0.00      0.00      0.00         1\n",
      "     blakit1       0.51      0.46      0.48        46\n",
      "     blhori1       0.58      0.64      0.61        28\n",
      "     blnmon1       0.26      0.29      0.28        34\n",
      "     blrwar1       0.79      0.74      0.76       100\n",
      "     bncwoo3       0.00      0.00      0.00         1\n",
      "     brakit1       0.33      0.25      0.29         8\n",
      "     brasta1       1.00      0.50      0.67         2\n",
      "     brcful1       0.23      0.18      0.20        17\n",
      "     brfowl1       0.00      0.00      0.00         3\n",
      "     brnhao1       0.50      0.71      0.59        24\n",
      "      brnshr       0.23      0.20      0.21        30\n",
      "     brodro1       0.14      0.18      0.16        22\n",
      "     brwjac1       0.00      0.00      0.00         4\n",
      "     brwowl1       0.50      0.33      0.40        15\n",
      "     btbeat1       0.33      0.27      0.30        11\n",
      "     bwfshr1       0.00      0.00      0.00         6\n",
      "      categr       0.33      0.31      0.32        42\n",
      "     chbeat1       0.17      0.25      0.20         4\n",
      "     cohcuc1       0.64      0.60      0.62        15\n",
      "     comfla1       0.00      0.00      0.00         6\n",
      "      comgre       0.67      0.74      0.70       100\n",
      "     comior1       0.34      0.37      0.36        43\n",
      "     comkin1       0.67      0.73      0.70       100\n",
      "     commoo3       0.56      0.57      0.57       100\n",
      "      commyn       0.50      0.45      0.47        47\n",
      "      compea       0.69      0.64      0.67        14\n",
      "      comros       0.63      0.68      0.65       100\n",
      "      comsan       0.67      0.71      0.69       100\n",
      "     comtai1       0.39      0.32      0.35        60\n",
      "     copbar1       0.43      0.42      0.43        24\n",
      "     crbsun2       0.00      0.00      0.00         4\n",
      "     cregos1       0.00      0.00      0.00         8\n",
      "     crfbar1       0.00      0.00      0.00         2\n",
      "     crseag1       0.45      0.50      0.48        30\n",
      "     dafbab1       1.00      0.25      0.40         4\n",
      "     darter2       0.00      0.00      0.00         1\n",
      "     eaywag1       0.48      0.45      0.46       100\n",
      "     emedov2       1.00      0.50      0.67        10\n",
      "      eucdov       0.78      0.88      0.83       100\n",
      "     eurbla2       0.38      0.75      0.50         4\n",
      "      eurcoo       0.55      0.66      0.60       100\n",
      "     forwag1       0.25      0.12      0.17         8\n",
      "      gargan       0.31      0.38      0.34        32\n",
      "      gloibi       0.33      0.10      0.15        21\n",
      "     goflea1       0.14      0.11      0.12         9\n",
      "     graher1       0.71      0.60      0.65       100\n",
      "     grbeat1       0.20      0.23      0.21        13\n",
      "     grecou1       0.46      0.53      0.49        32\n",
      "      greegr       0.56      0.49      0.52        55\n",
      "     grefla1       0.60      0.27      0.38        11\n",
      "     grehor1       0.33      0.43      0.38         7\n",
      "     grejun2       0.56      0.50      0.53        10\n",
      "     grenig1       0.80      0.50      0.62         8\n",
      "     grewar3       0.58      0.63      0.60       100\n",
      "      grnsan       0.60      0.61      0.61       100\n",
      "     grnwar1       0.45      0.36      0.40        28\n",
      "     grtdro1       0.24      0.25      0.25        55\n",
      "      gryfra       0.50      0.91      0.65        11\n",
      "     grynig2       0.00      0.00      0.00         4\n",
      "      grywag       0.63      0.73      0.68       100\n",
      "     gybpri1       0.27      0.30      0.29        23\n",
      "     gyhcaf1       0.57      0.58      0.57        43\n",
      "     heswoo1       0.00      0.00      0.00         4\n",
      "      hoopoe       0.62      0.69      0.65       100\n",
      "     houcro1       0.54      0.48      0.51        27\n",
      "      houspa       0.56      0.60      0.58       100\n",
      "     inbrob1       0.32      0.55      0.40        11\n",
      "     indpit1       0.50      0.25      0.33        12\n",
      "     indrob1       0.20      0.12      0.15         8\n",
      "     indrol2       0.00      0.00      0.00         7\n",
      "     indtit1       1.00      0.50      0.67         2\n",
      "     ingori1       0.08      0.12      0.10         8\n",
      "     inpher1       0.00      0.00      0.00         2\n",
      "     insbab1       0.70      0.58      0.64        12\n",
      "     insowl1       0.29      0.29      0.29         7\n",
      "      integr       0.00      0.00      0.00         1\n",
      "     isbduc1       0.00      0.00      0.00         3\n",
      "     jerbus2       0.33      0.33      0.33         3\n",
      "     junbab2       0.70      0.47      0.56        15\n",
      "     junmyn1       0.00      0.00      0.00         3\n",
      "     junowl1       0.38      0.56      0.45         9\n",
      "     kenplo1       0.50      0.52      0.51        54\n",
      "     kerlau2       0.33      0.50      0.40         2\n",
      "     labcro1       0.66      0.62      0.64        47\n",
      "     laudov1       0.37      0.32      0.34        22\n",
      "     lblwar1       0.62      0.44      0.52        18\n",
      "     lesyel1       1.00      0.25      0.40         4\n",
      "     lewduc1       0.00      0.00      0.00         6\n",
      "      lirplo       0.62      0.56      0.59       100\n",
      "      litegr       0.60      0.56      0.58        81\n",
      "     litgre1       0.61      0.59      0.60       100\n",
      "     litspi1       0.47      0.38      0.42        24\n",
      "     litswi1       0.73      0.73      0.73        15\n",
      "     lobsun2       0.00      0.00      0.00         4\n",
      "     maghor2       0.50      0.17      0.25         6\n",
      "     malpar1       0.33      0.25      0.29         4\n",
      "     maltro1       0.00      0.00      0.00         3\n",
      "     malwoo1       0.00      0.00      0.00         2\n",
      "      marsan       0.27      0.22      0.24        18\n",
      "     mawthr1       0.60      0.33      0.43         9\n",
      "     moipig1       0.50      0.60      0.55         5\n",
      "     nilfly2       0.00      0.00      0.00         1\n",
      "     niwpig1       0.00      0.00      0.00         1\n",
      "      nutman       0.24      0.39      0.30        23\n",
      "     orihob2       0.25      0.50      0.33         8\n",
      "     oripip1       0.33      0.43      0.38        14\n",
      "     pabflo1       0.00      0.00      0.00         9\n",
      "     paisto1       0.00      0.00      0.00         1\n",
      "     piebus1       0.12      0.12      0.12        17\n",
      "     piekin1       0.48      0.41      0.44        27\n",
      "     placuc3       0.43      0.43      0.43         7\n",
      "     plaflo1       0.00      0.00      0.00         4\n",
      "     plapri1       0.28      0.16      0.20        31\n",
      "     plhpar1       0.50      0.20      0.29         5\n",
      "     pomgrp2       0.00      0.00      0.00         1\n",
      "     purher1       0.33      0.44      0.38        54\n",
      "     pursun3       0.00      0.00      0.00        11\n",
      "     pursun4       0.19      0.16      0.17        25\n",
      "     purswa3       0.27      0.43      0.33         7\n",
      "     putbab1       0.51      0.57      0.54        44\n",
      "     redspu1       0.00      0.00      0.00         3\n",
      "     rerswa1       0.31      0.31      0.31        39\n",
      "      revbul       0.14      0.15      0.15        20\n",
      "      rewbul       0.33      0.49      0.40        37\n",
      "     rewlap1       0.62      0.67      0.64        27\n",
      "      rocpig       0.64      0.70      0.67        40\n",
      "      rorpar       0.68      0.64      0.66        84\n",
      "     rossta2       0.67      0.50      0.57        12\n",
      "     rufbab3       0.00      0.00      0.00         3\n",
      "     ruftre2       0.45      0.40      0.43        25\n",
      "     rufwoo2       0.23      0.33      0.27         9\n",
      "     rutfly6       0.00      0.00      0.00         1\n",
      "     sbeowl1       0.33      0.40      0.36         5\n",
      "     scamin3       0.00      0.00      0.00         2\n",
      "     shikra1       0.35      0.32      0.33        19\n",
      "     smamin1       0.14      0.25      0.18         4\n",
      "     sohmyn1       0.36      0.62      0.45         8\n",
      "     spepic1       0.00      0.00      0.00         9\n",
      "      spodov       0.56      0.61      0.58        31\n",
      "     spoowl1       0.30      0.43      0.35         7\n",
      "     sqtbul1       0.00      0.00      0.00         4\n",
      "     stbkin1       0.44      0.29      0.35        24\n",
      "     sttwoo1       0.00      0.00      0.00         4\n",
      "     thbwar1       0.18      0.15      0.16        20\n",
      "     tibfly3       0.17      0.10      0.12        20\n",
      "     tilwar1       0.00      0.00      0.00         4\n",
      "     vefnut1       0.17      0.12      0.14         8\n",
      "     vehpar1       0.20      0.14      0.17         7\n",
      "     wbbfly1       0.00      0.00      0.00         1\n",
      "     wemhar1       0.28      0.30      0.29        54\n",
      "     whbbul2       0.38      0.30      0.33        10\n",
      "     whbsho3       0.00      0.00      0.00         4\n",
      "     whbtre1       0.00      0.00      0.00         4\n",
      "     whbwag1       0.00      0.00      0.00         6\n",
      "     whbwat1       0.57      0.52      0.54        33\n",
      "     whbwoo2       0.40      0.27      0.32        15\n",
      "     whcbar1       0.58      0.64      0.61        11\n",
      "     whiter2       0.44      0.47      0.45        45\n",
      "      whrmun       0.19      0.33      0.24        12\n",
      "     whtkin2       0.68      0.68      0.68        37\n",
      "      woosan       0.59      0.63      0.61       100\n",
      "     wynlau1       0.00      0.00      0.00         1\n",
      "     yebbab1       0.00      0.00      0.00         5\n",
      "     yebbul3       0.29      0.33      0.31         6\n",
      "     zitcis1       0.63      0.59      0.61       100\n",
      "\n",
      "    accuracy                           0.51      4835\n",
      "   macro avg       0.34      0.33      0.32      4835\n",
      "weighted avg       0.51      0.51      0.51      4835\n",
      "\n"
     ]
    },
    {
     "name": "stderr",
     "output_type": "stream",
     "text": [
      "c:\\Users\\CICESE\\miniforge3\\envs\\sergio-gpu\\lib\\site-packages\\sklearn\\metrics\\_classification.py:1531: UndefinedMetricWarning: Precision is ill-defined and being set to 0.0 in labels with no predicted samples. Use `zero_division` parameter to control this behavior.\n",
      "  _warn_prf(average, modifier, f\"{metric.capitalize()} is\", len(result))\n",
      "c:\\Users\\CICESE\\miniforge3\\envs\\sergio-gpu\\lib\\site-packages\\sklearn\\metrics\\_classification.py:1531: UndefinedMetricWarning: Precision is ill-defined and being set to 0.0 in labels with no predicted samples. Use `zero_division` parameter to control this behavior.\n",
      "  _warn_prf(average, modifier, f\"{metric.capitalize()} is\", len(result))\n",
      "c:\\Users\\CICESE\\miniforge3\\envs\\sergio-gpu\\lib\\site-packages\\sklearn\\metrics\\_classification.py:1531: UndefinedMetricWarning: Precision is ill-defined and being set to 0.0 in labels with no predicted samples. Use `zero_division` parameter to control this behavior.\n",
      "  _warn_prf(average, modifier, f\"{metric.capitalize()} is\", len(result))\n"
     ]
    }
   ],
   "source": [
    "from sklearn.metrics import f1_score, classification_report\n",
    "\n",
    "# Obtener las predicciones del modelo en el conjunto de validación\n",
    "y_pred = model_xception_stft.predict(test_stft_mel_full)\n",
    "y_pred_classes = np.argmax(y_pred, axis=1)  # Convierte las predicciones a clases\n",
    "\n",
    "# Obtener las etiquetas verdaderas\n",
    "y_true = np.argmax(labels, axis=1)\n",
    "\n",
    "# Calcular el F1 score (macro, micro o weighted según lo que necesites)\n",
    "f1 = f1_score(y_true, y_pred_classes, average='macro')\n",
    "print(f'F1 Score (weighted): {f1:.4f}')\n",
    "\n",
    "# También puedes imprimir un informe de clasificación completo\n",
    "print(classification_report(y_true, y_pred_classes, target_names=test_stft_mel_full.class_indices.keys()))"
   ]
  },
  {
   "cell_type": "code",
   "execution_count": 113,
   "metadata": {},
   "outputs": [
    {
     "name": "stdout",
     "output_type": "stream",
     "text": [
      "[ 71  39 106 ...  39  57  20]\n"
     ]
    }
   ],
   "source": [
    "y_test = y_true\n",
    "print(y_test)"
   ]
  }
 ],
 "metadata": {
  "kernelspec": {
   "display_name": "base",
   "language": "python",
   "name": "python3"
  },
  "language_info": {
   "codemirror_mode": {
    "name": "ipython",
    "version": 3
   },
   "file_extension": ".py",
   "mimetype": "text/x-python",
   "name": "python",
   "nbconvert_exporter": "python",
   "pygments_lexer": "ipython3",
   "version": "3.12.4"
  }
 },
 "nbformat": 4,
 "nbformat_minor": 2
}
